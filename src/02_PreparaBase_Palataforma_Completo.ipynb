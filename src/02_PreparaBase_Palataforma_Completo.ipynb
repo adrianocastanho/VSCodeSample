{
 "cells": [
  {
   "cell_type": "code",
   "execution_count": 2,
   "metadata": {},
   "outputs": [],
   "source": [
    "import pandas as pd\n",
    "import numpy as np\n",
    "import copy\n",
    "import datetime\n",
    "import multiprocessing as mp\n",
    "from matplotlib import pyplot as plt"
   ]
  },
  {
   "cell_type": "markdown",
   "metadata": {},
   "source": [
    "pd.set_option('display.float_format', lambda x: '%.2f' % x)"
   ]
  },
  {
   "cell_type": "code",
   "execution_count": 3,
   "metadata": {},
   "outputs": [],
   "source": [
    "arquivos = ['matomo_completo_30062020.csv','matomo_completo_24-26062020.csv','matomo_completo_22-23062020.csv','matomo_completo_17-19062020.csv','matomo_completo_15-16062020.csv','matomo_completo_10-12062020.csv','matomo_completo_08-09062020.csv','matomo_completo_04-05062020.csv','matomo_completo_02062020.csv']\n",
    "arquivos = ['matomo_completo_01-03062020.csv']\n",
    "#arquivos.append('matomo_completo_01-03062020.csv')\n",
    "#arquivos.append('matomo_completo_04-05062020.csv')\n",
    "##arquivos.append('matomo_completo_08-09062020.csv')\n",
    "#arquivos.append('matomo_completo_10-12062020.csv')\n",
    "#arquivos.append('matomo_completo_15-16062020.csv')\n",
    "#arquivos.append('matomo_completo_17-19062020.csv')\n",
    "#arquivos.append('matomo_completo_22-23062020.csv')\n",
    "#arquivos.append('matomo_completo_24-26062020.csv')\n",
    "#arquivos.append('matomo_completo_29062020.csv')\n"
   ]
  },
  {
   "cell_type": "code",
   "execution_count": 4,
   "metadata": {},
   "outputs": [
    {
     "output_type": "execute_result",
     "data": {
      "text/plain": "['matomo_completo_01-03062020.csv']"
     },
     "metadata": {},
     "execution_count": 4
    }
   ],
   "source": [
    "arquivos"
   ]
  },
  {
   "cell_type": "code",
   "execution_count": 6,
   "metadata": {},
   "outputs": [],
   "source": [
    "df = pd.DataFrame([],columns=['CD_VIS', 'DT_ACAO', 'HR_LCL_VIST', 'TX_IP_VIS', 'CD_UOR', 'NM_UOR_RDZ',\n",
    "       'HR_ACAO', 'TEMPO_RESPOSTA', 'TX_IDFC_USU', 'UF', 'NM_TIP_ACAO',\n",
    "       'HORA_TRS', 'DIA_MES', 'DIA_PICO', 'DIA_UTIL', 'CONTEXTO', 'APP',\n",
    "       'HORA_LOCAL', 'DT_ACAO_DATETIME', 'HORA_COMERCIAL',\n",
    "       'TEMPO_RESPOSTA_SEGUNDOS', 'TIMEOUT'])\n",
    "for arq in arquivos:\n",
    "    df_temp = pd.read_csv('../data/'+arq,sep=';',low_memory=False).sample(20000,random_state=1024)\n",
    "    \n",
    "    df = pd.concat([df,df_temp],sort=False)\n",
    "\n",
    "df_temp =[]\n",
    "    "
   ]
  },
  {
   "cell_type": "code",
   "execution_count": 7,
   "metadata": {},
   "outputs": [
    {
     "output_type": "execute_result",
     "data": {
      "text/plain": "20000"
     },
     "metadata": {},
     "execution_count": 7
    }
   ],
   "source": [
    "len(df)"
   ]
  },
  {
   "cell_type": "code",
   "execution_count": 8,
   "metadata": {},
   "outputs": [
    {
     "output_type": "execute_result",
     "data": {
      "text/plain": "Index(['CD_VIS', 'DT_ACAO', 'HR_LCL_VIST', 'TX_IP_VIS', 'CD_UOR', 'NM_UOR_RDZ',\n       'HR_ACAO', 'TEMPO_RESPOSTA', 'TX_IDFC_USU', 'UF', 'NM_TIP_ACAO',\n       'HORA_TRS', 'DIA_MES', 'DIA_PICO', 'DIA_UTIL', 'CONTEXTO', 'APP',\n       'HORA_LOCAL', 'DT_ACAO_DATETIME', 'HORA_COMERCIAL',\n       'TEMPO_RESPOSTA_SEGUNDOS', 'TIMEOUT'],\n      dtype='object')"
     },
     "metadata": {},
     "execution_count": 8
    }
   ],
   "source": [
    "df.columns"
   ]
  },
  {
   "cell_type": "code",
   "execution_count": 9,
   "metadata": {},
   "outputs": [
    {
     "output_type": "execute_result",
     "data": {
      "text/plain": "                                                                   1946393  \\\nCD_VIS                                                  200000000788340622   \nDT_ACAO                                                         2020-06-02   \nHR_LCL_VIST                                                       07:32:16   \nTX_IP_VIS                                 10.203.62.135                      \nCD_UOR                                                              450062   \nNM_UOR_RDZ                                            ESCR.EXC.TERRA LUZ     \nHR_ACAO                                                           14:12:21   \nTEMPO_RESPOSTA                                                         511   \nTX_IDFC_USU                                                       F4511714   \nUF                                                                      CE   \nNM_TIP_ACAO              plataforma.atendimento.bb.com.br/estatico/gat/...   \nHORA_TRS                                                               NaN   \nDIA_MES                                                                NaN   \nDIA_PICO                                                               NaN   \nDIA_UTIL                                                               NaN   \nCONTEXTO                                                               NaN   \nAPP                                                                    NaN   \nHORA_LOCAL                                                             NaN   \nDT_ACAO_DATETIME                                                       NaN   \nHORA_COMERCIAL                                                         NaN   \nTEMPO_RESPOSTA_SEGUNDOS                                                NaN   \nTIMEOUT                                                                NaN   \n\n                                                                   4403030  \\\nCD_VIS                                                  200000000788679670   \nDT_ACAO                                                         2020-06-02   \nHR_LCL_VIST                                                       09:54:30   \nTX_IP_VIS                                 10.112.14.148                      \nCD_UOR                                                                5750   \nNM_UOR_RDZ                                            ASSIS CHATEAUBRIAND    \nHR_ACAO                                                           15:46:45   \nTEMPO_RESPOSTA                                                        1462   \nTX_IDFC_USU                                                       F6329499   \nUF                                                                      PR   \nNM_TIP_ACAO              plataforma.atendimento.bb.com.br/estatico/gaw/...   \nHORA_TRS                                                               NaN   \nDIA_MES                                                                NaN   \nDIA_PICO                                                               NaN   \nDIA_UTIL                                                               NaN   \nCONTEXTO                                                               NaN   \nAPP                                                                    NaN   \nHORA_LOCAL                                                             NaN   \nDT_ACAO_DATETIME                                                       NaN   \nHORA_COMERCIAL                                                         NaN   \nTEMPO_RESPOSTA_SEGUNDOS                                                NaN   \nTIMEOUT                                                                NaN   \n\n                                                                   5611239  \\\nCD_VIS                                                  200000000787046914   \nDT_ACAO                                                         2020-06-01   \nHR_LCL_VIST                                                       09:43:15   \nTX_IP_VIS                                 10.100.154.164                     \nCD_UOR                                                               75796   \nNM_UOR_RDZ                                            LUIZ ALVES             \nHR_ACAO                                                           12:56:07   \nTEMPO_RESPOSTA                                                        3532   \nTX_IDFC_USU                                                       F2892549   \nUF                                                                      SC   \nNM_TIP_ACAO              plataforma.atendimento.bb.com.br/estatico/gaw-...   \nHORA_TRS                                                               NaN   \nDIA_MES                                                                NaN   \nDIA_PICO                                                               NaN   \nDIA_UTIL                                                               NaN   \nCONTEXTO                                                               NaN   \nAPP                                                                    NaN   \nHORA_LOCAL                                                             NaN   \nDT_ACAO_DATETIME                                                       NaN   \nHORA_COMERCIAL                                                         NaN   \nTEMPO_RESPOSTA_SEGUNDOS                                                NaN   \nTIMEOUT                                                                NaN   \n\n                                                                   9705579  \\\nCD_VIS                                                  200000000789817456   \nDT_ACAO                                                         2020-06-02   \nHR_LCL_VIST                                                       17:06:06   \nTX_IP_VIS                                 10.56.58.147                       \nCD_UOR                                                               85498   \nNM_UOR_RDZ                                            ESTILO MACAPA          \nHR_ACAO                                                           21:19:46   \nTEMPO_RESPOSTA                                                         428   \nTX_IDFC_USU                                                       F6793015   \nUF                                                                      AP   \nNM_TIP_ACAO              plataforma.atendimento.bb.com.br/pnd/APPS/apli...   \nHORA_TRS                                                               NaN   \nDIA_MES                                                                NaN   \nDIA_PICO                                                               NaN   \nDIA_UTIL                                                               NaN   \nCONTEXTO                                                               NaN   \nAPP                                                                    NaN   \nHORA_LOCAL                                                             NaN   \nDT_ACAO_DATETIME                                                       NaN   \nHORA_COMERCIAL                                                         NaN   \nTEMPO_RESPOSTA_SEGUNDOS                                                NaN   \nTIMEOUT                                                                NaN   \n\n                                                                   702974   \nCD_VIS                                                  200000000786763150  \nDT_ACAO                                                         2020-06-01  \nHR_LCL_VIST                                                       07:56:57  \nTX_IP_VIS                                 10.2.244.74                       \nCD_UOR                                                              442533  \nNM_UOR_RDZ                                            ESCR.EXC.ALECRIM      \nHR_ACAO                                                           19:30:01  \nTEMPO_RESPOSTA                                                        2123  \nTX_IDFC_USU                                                       F4324249  \nUF                                                                      RN  \nNM_TIP_ACAO              plataforma.atendimento.bb.com.br/estatico/opr/...  \nHORA_TRS                                                               NaN  \nDIA_MES                                                                NaN  \nDIA_PICO                                                               NaN  \nDIA_UTIL                                                               NaN  \nCONTEXTO                                                               NaN  \nAPP                                                                    NaN  \nHORA_LOCAL                                                             NaN  \nDT_ACAO_DATETIME                                                       NaN  \nHORA_COMERCIAL                                                         NaN  \nTEMPO_RESPOSTA_SEGUNDOS                                                NaN  \nTIMEOUT                                                                NaN  ",
      "text/html": "<div>\n<style scoped>\n    .dataframe tbody tr th:only-of-type {\n        vertical-align: middle;\n    }\n\n    .dataframe tbody tr th {\n        vertical-align: top;\n    }\n\n    .dataframe thead th {\n        text-align: right;\n    }\n</style>\n<table border=\"1\" class=\"dataframe\">\n  <thead>\n    <tr style=\"text-align: right;\">\n      <th></th>\n      <th>1946393</th>\n      <th>4403030</th>\n      <th>5611239</th>\n      <th>9705579</th>\n      <th>702974</th>\n    </tr>\n  </thead>\n  <tbody>\n    <tr>\n      <td>CD_VIS</td>\n      <td>200000000788340622</td>\n      <td>200000000788679670</td>\n      <td>200000000787046914</td>\n      <td>200000000789817456</td>\n      <td>200000000786763150</td>\n    </tr>\n    <tr>\n      <td>DT_ACAO</td>\n      <td>2020-06-02</td>\n      <td>2020-06-02</td>\n      <td>2020-06-01</td>\n      <td>2020-06-02</td>\n      <td>2020-06-01</td>\n    </tr>\n    <tr>\n      <td>HR_LCL_VIST</td>\n      <td>07:32:16</td>\n      <td>09:54:30</td>\n      <td>09:43:15</td>\n      <td>17:06:06</td>\n      <td>07:56:57</td>\n    </tr>\n    <tr>\n      <td>TX_IP_VIS</td>\n      <td>10.203.62.135</td>\n      <td>10.112.14.148</td>\n      <td>10.100.154.164</td>\n      <td>10.56.58.147</td>\n      <td>10.2.244.74</td>\n    </tr>\n    <tr>\n      <td>CD_UOR</td>\n      <td>450062</td>\n      <td>5750</td>\n      <td>75796</td>\n      <td>85498</td>\n      <td>442533</td>\n    </tr>\n    <tr>\n      <td>NM_UOR_RDZ</td>\n      <td>ESCR.EXC.TERRA LUZ</td>\n      <td>ASSIS CHATEAUBRIAND</td>\n      <td>LUIZ ALVES</td>\n      <td>ESTILO MACAPA</td>\n      <td>ESCR.EXC.ALECRIM</td>\n    </tr>\n    <tr>\n      <td>HR_ACAO</td>\n      <td>14:12:21</td>\n      <td>15:46:45</td>\n      <td>12:56:07</td>\n      <td>21:19:46</td>\n      <td>19:30:01</td>\n    </tr>\n    <tr>\n      <td>TEMPO_RESPOSTA</td>\n      <td>511</td>\n      <td>1462</td>\n      <td>3532</td>\n      <td>428</td>\n      <td>2123</td>\n    </tr>\n    <tr>\n      <td>TX_IDFC_USU</td>\n      <td>F4511714</td>\n      <td>F6329499</td>\n      <td>F2892549</td>\n      <td>F6793015</td>\n      <td>F4324249</td>\n    </tr>\n    <tr>\n      <td>UF</td>\n      <td>CE</td>\n      <td>PR</td>\n      <td>SC</td>\n      <td>AP</td>\n      <td>RN</td>\n    </tr>\n    <tr>\n      <td>NM_TIP_ACAO</td>\n      <td>plataforma.atendimento.bb.com.br/estatico/gat/...</td>\n      <td>plataforma.atendimento.bb.com.br/estatico/gaw/...</td>\n      <td>plataforma.atendimento.bb.com.br/estatico/gaw-...</td>\n      <td>plataforma.atendimento.bb.com.br/pnd/APPS/apli...</td>\n      <td>plataforma.atendimento.bb.com.br/estatico/opr/...</td>\n    </tr>\n    <tr>\n      <td>HORA_TRS</td>\n      <td>NaN</td>\n      <td>NaN</td>\n      <td>NaN</td>\n      <td>NaN</td>\n      <td>NaN</td>\n    </tr>\n    <tr>\n      <td>DIA_MES</td>\n      <td>NaN</td>\n      <td>NaN</td>\n      <td>NaN</td>\n      <td>NaN</td>\n      <td>NaN</td>\n    </tr>\n    <tr>\n      <td>DIA_PICO</td>\n      <td>NaN</td>\n      <td>NaN</td>\n      <td>NaN</td>\n      <td>NaN</td>\n      <td>NaN</td>\n    </tr>\n    <tr>\n      <td>DIA_UTIL</td>\n      <td>NaN</td>\n      <td>NaN</td>\n      <td>NaN</td>\n      <td>NaN</td>\n      <td>NaN</td>\n    </tr>\n    <tr>\n      <td>CONTEXTO</td>\n      <td>NaN</td>\n      <td>NaN</td>\n      <td>NaN</td>\n      <td>NaN</td>\n      <td>NaN</td>\n    </tr>\n    <tr>\n      <td>APP</td>\n      <td>NaN</td>\n      <td>NaN</td>\n      <td>NaN</td>\n      <td>NaN</td>\n      <td>NaN</td>\n    </tr>\n    <tr>\n      <td>HORA_LOCAL</td>\n      <td>NaN</td>\n      <td>NaN</td>\n      <td>NaN</td>\n      <td>NaN</td>\n      <td>NaN</td>\n    </tr>\n    <tr>\n      <td>DT_ACAO_DATETIME</td>\n      <td>NaN</td>\n      <td>NaN</td>\n      <td>NaN</td>\n      <td>NaN</td>\n      <td>NaN</td>\n    </tr>\n    <tr>\n      <td>HORA_COMERCIAL</td>\n      <td>NaN</td>\n      <td>NaN</td>\n      <td>NaN</td>\n      <td>NaN</td>\n      <td>NaN</td>\n    </tr>\n    <tr>\n      <td>TEMPO_RESPOSTA_SEGUNDOS</td>\n      <td>NaN</td>\n      <td>NaN</td>\n      <td>NaN</td>\n      <td>NaN</td>\n      <td>NaN</td>\n    </tr>\n    <tr>\n      <td>TIMEOUT</td>\n      <td>NaN</td>\n      <td>NaN</td>\n      <td>NaN</td>\n      <td>NaN</td>\n      <td>NaN</td>\n    </tr>\n  </tbody>\n</table>\n</div>"
     },
     "metadata": {},
     "execution_count": 9
    }
   ],
   "source": [
    "df.head().T"
   ]
  },
  {
   "cell_type": "code",
   "execution_count": 10,
   "metadata": {},
   "outputs": [
    {
     "output_type": "execute_result",
     "data": {
      "text/plain": "CD_VIS                      object\nDT_ACAO                     object\nHR_LCL_VIST                 object\nTX_IP_VIS                   object\nCD_UOR                      object\nNM_UOR_RDZ                  object\nHR_ACAO                     object\nTEMPO_RESPOSTA             float64\nTX_IDFC_USU                 object\nUF                          object\nNM_TIP_ACAO                 object\nHORA_TRS                    object\nDIA_MES                     object\nDIA_PICO                    object\nDIA_UTIL                    object\nCONTEXTO                    object\nAPP                         object\nHORA_LOCAL                  object\nDT_ACAO_DATETIME            object\nHORA_COMERCIAL              object\nTEMPO_RESPOSTA_SEGUNDOS     object\nTIMEOUT                     object\ndtype: object"
     },
     "metadata": {},
     "execution_count": 10
    }
   ],
   "source": [
    "df.dtypes"
   ]
  },
  {
   "cell_type": "code",
   "execution_count": 11,
   "metadata": {},
   "outputs": [
    {
     "output_type": "execute_result",
     "data": {
      "text/plain": "CD_VIS                         0\nDT_ACAO                        0\nHR_LCL_VIST                    0\nTX_IP_VIS                      0\nCD_UOR                         0\nNM_UOR_RDZ                     0\nHR_ACAO                        0\nTEMPO_RESPOSTA                 0\nTX_IDFC_USU                 1068\nUF                             0\nNM_TIP_ACAO                    0\nHORA_TRS                   20000\nDIA_MES                    20000\nDIA_PICO                   20000\nDIA_UTIL                   20000\nCONTEXTO                   20000\nAPP                        20000\nHORA_LOCAL                 20000\nDT_ACAO_DATETIME           20000\nHORA_COMERCIAL             20000\nTEMPO_RESPOSTA_SEGUNDOS    20000\nTIMEOUT                    20000\ndtype: int64"
     },
     "metadata": {},
     "execution_count": 11
    }
   ],
   "source": [
    "df.isnull().sum()"
   ]
  },
  {
   "cell_type": "code",
   "execution_count": 12,
   "metadata": {},
   "outputs": [],
   "source": [
    "df.dropna(subset=['UF', 'NM_TIP_ACAO'],inplace=True)"
   ]
  },
  {
   "cell_type": "code",
   "execution_count": 13,
   "metadata": {
    "tags": []
   },
   "outputs": [
    {
     "output_type": "stream",
     "name": "stdout",
     "text": "24\n"
    }
   ],
   "source": [
    "cores = mp.cpu_count()  #Number of CPU cores on your system\n",
    "partitions = cores \n",
    "print(partitions)"
   ]
  },
  {
   "cell_type": "code",
   "execution_count": 14,
   "metadata": {},
   "outputs": [],
   "source": [
    "def parallelize(data, func):\n",
    "    data_split = np.array_split(data, partitions)\n",
    "    pool = mp.Pool(cores)\n",
    "    data = pd.concat(pool.map(func, data_split))\n",
    "    pool.close()\n",
    "    pool.join()\n",
    "    return data"
   ]
  },
  {
   "cell_type": "code",
   "execution_count": 15,
   "metadata": {},
   "outputs": [],
   "source": [
    "def getContexto(x):\n",
    "    if type(x) == float:\n",
    "        return 'Sem Contexto'\n",
    "    \n",
    "    pos = x.find('estatico')\n",
    "    \n",
    "    if  pos == -1:\n",
    "        posInicial = 33\n",
    "        if x[32:33] == \":\":\n",
    "           posInicial = x.find('/')\n",
    "        \n",
    "    else:\n",
    "        posInicial = pos + 9\n",
    "        \n",
    "    ind = x[posInicial:len(x)]\n",
    "    \n",
    "    posFinal = ind.find('/')\n",
    "    contexto = ind[0:posFinal]\n",
    "    \n",
    "    if contexto == \"\":\n",
    "        contexto = 'Sem Contexto'\n",
    "    \n",
    "    return contexto\n",
    "    "
   ]
  },
  {
   "cell_type": "code",
   "execution_count": 16,
   "metadata": {},
   "outputs": [],
   "source": [
    "def getApp(x):\n",
    "    \n",
    "    if type(x) == float:\n",
    "        return 'Sem App'\n",
    "        \n",
    "    pos = x.find('#')\n",
    "        \n",
    "    if pos != -1:\n",
    "        posFinal = pos\n",
    "        \n",
    "    pos = x.find('?')\n",
    "\n",
    "    if pos != -1:\n",
    "        posFinal = pos\n",
    "    else:\n",
    "        posFinal = len(x)\n",
    "   \n",
    "  \n",
    "    posInicial = getPosInicioApp(x[0:posFinal])    \n",
    "    \n",
    "    app = x[posInicial:len(x)]\n",
    "    \n",
    "    app = getRetiraSujeira(app)\n",
    "    \n",
    "    return app\n",
    "  "
   ]
  },
  {
   "cell_type": "code",
   "execution_count": 17,
   "metadata": {},
   "outputs": [],
   "source": [
    "def getRetiraSujeira(x):\n",
    "    \n",
    "    posicao = x.find(\"?\")\n",
    "    app = x\n",
    "    \n",
    "    if posicao != -1:\n",
    "        app = x[0:posicao]\n",
    "    \n",
    "    return app    "
   ]
  },
  {
   "cell_type": "code",
   "execution_count": 18,
   "metadata": {},
   "outputs": [],
   "source": [
    "def getPosInicioApp(x):\n",
    "    pos = 0\n",
    "    for i in range(len(x),0,-1):\n",
    "        ch = x[i-1]\n",
    "        \n",
    "        if ch == '/':\n",
    "            pos = i\n",
    "            break\n",
    "            \n",
    "    return pos"
   ]
  },
  {
   "cell_type": "code",
   "execution_count": 19,
   "metadata": {},
   "outputs": [],
   "source": [
    "def getHoraLocal(x):\n",
    "    hora = int(x.HORA_TRS) - 3 \n",
    "    if hora == -1:\n",
    "        hora = 23\n",
    "    elif hora == -2:\n",
    "        hora = 22\n",
    "    elif hora == -3:\n",
    "        hora = 21 \n",
    "    \n",
    "    if x.UF in ['AM','RR','RO']:\n",
    "        hora = int(x.HORA_TRS) - 4\n",
    "        \n",
    "        if hora == -1:\n",
    "            hora = 23\n",
    "        elif hora == -2:\n",
    "            hora = 22\n",
    "        elif hora == -3:\n",
    "            hora = 21 \n",
    "        elif hora == -4:\n",
    "            hora = 20\n",
    "            \n",
    "    if x.UF in 'AC':\n",
    "        hora = int(x.HORA_TRS) - 5\n",
    "        \n",
    "        if hora == -1:\n",
    "            hora = 23\n",
    "        elif hora == -2:\n",
    "            hora = 22\n",
    "        elif hora == -3:\n",
    "            hora = 21 \n",
    "        elif hora == -4:\n",
    "            hora = 20\n",
    "        elif hora == -5:\n",
    "            hora = 19\n",
    "          \n",
    "    return hora\n",
    "    "
   ]
  },
  {
   "cell_type": "code",
   "execution_count": 20,
   "metadata": {},
   "outputs": [],
   "source": [
    "def setDiaUtil(x):\n",
    "    x['DIA_UTIL'] = 1\n",
    "    x.loc[x['DT_ACAO'] == '2020-06-06','DIA_UTIL'] = 0\n",
    "    x.loc[x['DT_ACAO'] == '2020-06-07','DIA_UTIL'] = 0\n",
    "    x.loc[x['DT_ACAO'] == '2020-06-11','DIA_UTIL'] = 0\n",
    "    x.loc[x['DT_ACAO'] == '2020-06-13','DIA_UTIL'] = 0\n",
    "    x.loc[x['DT_ACAO'] == '2020-06-14','DIA_UTIL'] = 0\n",
    "    x.loc[x['DT_ACAO'] == '2020-06-20','DIA_UTIL'] = 0\n",
    "    x.loc[x['DT_ACAO'] == '2020-06-21','DIA_UTIL'] = 0\n",
    "    x.loc[x['DT_ACAO'] == '2020-06-27','DIA_UTIL'] = 0\n",
    "    x.loc[x['DT_ACAO'] == '2020-06-28','DIA_UTIL'] = 0\n",
    "    return x"
   ]
  },
  {
   "cell_type": "code",
   "execution_count": 21,
   "metadata": {},
   "outputs": [],
   "source": [
    "def getDiaUtil(x):\n",
    "    return datetime.datetime.x.weekday()\n"
   ]
  },
  {
   "cell_type": "code",
   "execution_count": 22,
   "metadata": {},
   "outputs": [],
   "source": [
    "def processaArquivo(data): \n",
    "    data['HORA_TRS'] = data['HR_ACAO'].str[0:2]  \n",
    "    data['DIA_MES'] = data['DT_ACAO'].str[8:10]\n",
    "    \n",
    "    data['DIA_PICO'] = data.DIA_MES.apply(lambda x: 1 if x in ['30','31','01','02','03','04','05','06','07','08','09','10'] else 0)\n",
    "   \n",
    "    data['DIA_UTIL'] = 1\n",
    "    data.loc[data['DT_ACAO'] == '2020-06-06','DIA_UTIL'] = 0\n",
    "    data.loc[data['DT_ACAO'] == '2020-06-07','DIA_UTIL'] = 0\n",
    "    data.loc[data['DT_ACAO'] == '2020-06-11','DIA_UTIL'] = 0\n",
    "    data.loc[data['DT_ACAO'] == '2020-06-13','DIA_UTIL'] = 0\n",
    "    data.loc[data['DT_ACAO'] == '2020-06-14','DIA_UTIL'] = 0\n",
    "    data.loc[data['DT_ACAO'] == '2020-06-20','DIA_UTIL'] = 0\n",
    "    data.loc[data['DT_ACAO'] == '2020-06-21','DIA_UTIL'] = 0\n",
    "    data.loc[data['DT_ACAO'] == '2020-06-27','DIA_UTIL'] = 0\n",
    "    data.loc[data['DT_ACAO'] == '2020-06-28','DIA_UTIL'] = 0\n",
    "    \n",
    "    data['NM_TIP_ACAO'] = data.NM_TIP_ACAO.apply(lambda x: x.strip())\n",
    "    \n",
    "    data['CONTEXTO'] = data.NM_TIP_ACAO.apply(lambda x: getContexto(x))\n",
    "                                                 \n",
    "    data['APP'] = data.NM_TIP_ACAO.apply(lambda x: getApp(x))   \n",
    "    \n",
    "    data['HORA_LOCAL'] = data.apply(lambda x: getHoraLocal(x),axis=1)\n",
    "    data['DT_ACAO_DATETIME'] = pd.to_datetime(data['DT_ACAO'])\n",
    "    \n",
    "    data['HORA_COMERCIAL'] = 0\n",
    "    data.loc[(data['HORA_TRS'] >= '08') | (data['HORA_TRS'] >= '18'),'HORA_COMERCIAL'] = 1\n",
    "    \n",
    "    data['TEMPO_RESPOSTA_SEGUNDOS'] = data['TEMPO_RESPOSTA']/1000\n",
    "\n",
    "    data['TIMEOUT'] = 0\n",
    "    data.loc[data['TEMPO_RESPOSTA_SEGUNDOS'] > 30,'TIMEOUT'] = 1      \n",
    "    \n",
    "     \n",
    "    return data"
   ]
  },
  {
   "cell_type": "code",
   "execution_count": 23,
   "metadata": {},
   "outputs": [],
   "source": [
    "df = parallelize(df,processaArquivo)"
   ]
  },
  {
   "cell_type": "code",
   "execution_count": 24,
   "metadata": {},
   "outputs": [],
   "source": [
    "media_temp = df.groupby('APP')['TEMPO_RESPOSTA_SEGUNDOS'].agg({'TEMPO_RESPOSTA_SEGUNDOS':'mean'},index=False).reset_index().rename(columns={\"TEMPO_RESPOSTA_SEGUNDOS\":\"Média\"})"
   ]
  },
  {
   "cell_type": "code",
   "execution_count": 25,
   "metadata": {},
   "outputs": [
    {
     "output_type": "execute_result",
     "data": {
      "text/plain": "                                     0  \\\nAPP    ATN17_Contingencia_TDS_Index.bb   \nMédia                         0.763234   \n\n                                            1  \\\nAPP    CONF02_FilaAtendimentoNegocialIndex.bb   \nMédia                                  1.1375   \n\n                                            2                             3  \\\nAPP    CONF10_VincularOutrasAgencias_Index.bb  ConfiguracaoAmbienteIndex.bb   \nMédia                                    0.48                          1.01   \n\n                                                   4                  5  \\\nAPP    TRF_687_Consulta_Pendencias_de_Deferimento.bb  abertura-app.html   \nMédia                                          1.153            1.49298   \n\n                        6                       7              8  \\\nAPP    aberturaContaPF.bb  abrir-demanda-app.html  acao.app.html   \nMédia                1.69                   1.518         241402   \n\n                     9       10                     11                    12  \\\nAPP    acc-pj.app.html  accw.bb  acessoDireto.app.html  acolhimento.app.html   \nMédia            0.922     0.75               0.326437               1.66365   \n\n                            13                               14  \\\nAPP    acolhimentoACP.app.html  acolhimentoPropostaCOP.app.html   \nMédia                    1.092                          2.08246   \n\n                                      15  \\\nAPP    acolhimentoProrrogaRural-app.html   \nMédia                              0.572   \n\n                                                  16  \\\nAPP    acompanhamento-assinatura-eletronica.app.html   \nMédia                                          0.617   \n\n                                      17         18            19  \nAPP    acompanhamentoVendaTermo.app.html  acordo.bb  acv.app.html  \nMédia                              1.827     2.4958        1.5665  ",
      "text/html": "<div>\n<style scoped>\n    .dataframe tbody tr th:only-of-type {\n        vertical-align: middle;\n    }\n\n    .dataframe tbody tr th {\n        vertical-align: top;\n    }\n\n    .dataframe thead th {\n        text-align: right;\n    }\n</style>\n<table border=\"1\" class=\"dataframe\">\n  <thead>\n    <tr style=\"text-align: right;\">\n      <th></th>\n      <th>0</th>\n      <th>1</th>\n      <th>2</th>\n      <th>3</th>\n      <th>4</th>\n      <th>5</th>\n      <th>6</th>\n      <th>7</th>\n      <th>8</th>\n      <th>9</th>\n      <th>10</th>\n      <th>11</th>\n      <th>12</th>\n      <th>13</th>\n      <th>14</th>\n      <th>15</th>\n      <th>16</th>\n      <th>17</th>\n      <th>18</th>\n      <th>19</th>\n    </tr>\n  </thead>\n  <tbody>\n    <tr>\n      <td>APP</td>\n      <td>ATN17_Contingencia_TDS_Index.bb</td>\n      <td>CONF02_FilaAtendimentoNegocialIndex.bb</td>\n      <td>CONF10_VincularOutrasAgencias_Index.bb</td>\n      <td>ConfiguracaoAmbienteIndex.bb</td>\n      <td>TRF_687_Consulta_Pendencias_de_Deferimento.bb</td>\n      <td>abertura-app.html</td>\n      <td>aberturaContaPF.bb</td>\n      <td>abrir-demanda-app.html</td>\n      <td>acao.app.html</td>\n      <td>acc-pj.app.html</td>\n      <td>accw.bb</td>\n      <td>acessoDireto.app.html</td>\n      <td>acolhimento.app.html</td>\n      <td>acolhimentoACP.app.html</td>\n      <td>acolhimentoPropostaCOP.app.html</td>\n      <td>acolhimentoProrrogaRural-app.html</td>\n      <td>acompanhamento-assinatura-eletronica.app.html</td>\n      <td>acompanhamentoVendaTermo.app.html</td>\n      <td>acordo.bb</td>\n      <td>acv.app.html</td>\n    </tr>\n    <tr>\n      <td>Média</td>\n      <td>0.763234</td>\n      <td>1.1375</td>\n      <td>0.48</td>\n      <td>1.01</td>\n      <td>1.153</td>\n      <td>1.49298</td>\n      <td>1.69</td>\n      <td>1.518</td>\n      <td>241402</td>\n      <td>0.922</td>\n      <td>0.75</td>\n      <td>0.326437</td>\n      <td>1.66365</td>\n      <td>1.092</td>\n      <td>2.08246</td>\n      <td>0.572</td>\n      <td>0.617</td>\n      <td>1.827</td>\n      <td>2.4958</td>\n      <td>1.5665</td>\n    </tr>\n  </tbody>\n</table>\n</div>"
     },
     "metadata": {},
     "execution_count": 25
    }
   ],
   "source": [
    "media_temp.head(20).T"
   ]
  },
  {
   "cell_type": "code",
   "execution_count": 26,
   "metadata": {},
   "outputs": [],
   "source": [
    "media_temp.to_csv('../data/media_apps.csv',sep=';',index=False)"
   ]
  },
  {
   "cell_type": "code",
   "execution_count": 27,
   "metadata": {},
   "outputs": [],
   "source": [
    "teste = pd.qcut(df['TEMPO_RESPOSTA_SEGUNDOS'], q=8, duplicates='drop', precision=2)"
   ]
  },
  {
   "cell_type": "code",
   "execution_count": 28,
   "metadata": {
    "tags": []
   },
   "outputs": [
    {
     "output_type": "stream",
     "name": "stdout",
     "text": "1946393            (0.4, 0.6]\n4403030          (1.44, 2.09]\n5611239     (3.29, 933670.02]\n9705579            (0.4, 0.6]\n702974           (2.09, 3.29]\n                  ...        \n14723759        (-0.01, 0.12]\n7082859     (3.29, 933670.02]\n3929485           (0.6, 0.93]\n8607959         (-0.01, 0.12]\n5554490           (0.12, 0.4]\nName: TEMPO_RESPOSTA_SEGUNDOS, Length: 20000, dtype: category\nCategories (8, interval[float64]): [(-0.01, 0.12] < (0.12, 0.4] < (0.4, 0.6] < (0.6, 0.93] < (0.93, 1.44] < (1.44, 2.09] < (2.09, 3.29] < (3.29, 933670.02]]\n"
    }
   ],
   "source": [
    "print(teste)"
   ]
  },
  {
   "cell_type": "code",
   "execution_count": 29,
   "metadata": {},
   "outputs": [],
   "source": [
    "df['CLASSE_APP'] = pd.cut(df['TEMPO_RESPOSTA_SEGUNDOS'], bins=[-0.01,0.1,0.39, 0.59, 0.92, 1.42, 2.09, 3.3, 30.0,937274])"
   ]
  },
  {
   "cell_type": "code",
   "execution_count": 30,
   "metadata": {},
   "outputs": [],
   "source": [
    "df.CLASSE_APP.cat.rename_categories({pd.Interval(-0.01, 0.1) : 'Super Baixo (até 0.1 seg)',\n",
    "                                                      pd.Interval(0.1, 0.39) : 'Muito Baixo (0.1 - 0.39 seg)',\n",
    "                                                      pd.Interval(0.39, 0.59) : 'Baixo (0.39 - 0.59 seg)',\n",
    "                                                      pd.Interval(0.59,0.92) : 'Médio (0.59 - 0.92 seg)',\n",
    "                                                      pd.Interval(0.92,1.42) : 'Médio (0.91 - 1.42 seg)',\n",
    "                                                      pd.Interval(1.42, 2.09) : 'Alto (1.42 - 2.09 seg)', \n",
    "                                                      pd.Interval(2.09, 3.3) : 'Muito Alto (2.09 - 3.3 seg)',\n",
    "                                                      pd.Interval(3.3, 30) : 'Super Alto (3.24 - 30 seg)',\n",
    "                                                      pd.Interval(30.0,937274): 'TimeOut'}, \n",
    "                                                      inplace=True)"
   ]
  },
  {
   "cell_type": "code",
   "execution_count": 31,
   "metadata": {},
   "outputs": [
    {
     "output_type": "execute_result",
     "data": {
      "text/plain": "                                                                   1946393  \\\nCD_VIS                                                  200000000788340622   \nDT_ACAO                                                         2020-06-02   \nHR_LCL_VIST                                                       07:32:16   \nTX_IP_VIS                                 10.203.62.135                      \nCD_UOR                                                              450062   \nNM_UOR_RDZ                                            ESCR.EXC.TERRA LUZ     \nHR_ACAO                                                           14:12:21   \nTEMPO_RESPOSTA                                                         511   \nTX_IDFC_USU                                                       F4511714   \nUF                                                                      CE   \nNM_TIP_ACAO              plataforma.atendimento.bb.com.br/estatico/gat/...   \nHORA_TRS                                                                14   \nDIA_MES                                                                 02   \nDIA_PICO                                                                 1   \nDIA_UTIL                                                                 1   \nCONTEXTO                                                               gat   \nAPP                                       fila-telefonica-detalhe.app.html   \nHORA_LOCAL                                                              11   \nDT_ACAO_DATETIME                                       2020-06-02 00:00:00   \nHORA_COMERCIAL                                                           1   \nTEMPO_RESPOSTA_SEGUNDOS                                              0.511   \nTIMEOUT                                                                  0   \nCLASSE_APP                                         Baixo (0.39 - 0.59 seg)   \n\n                                                                   4403030  \\\nCD_VIS                                                  200000000788679670   \nDT_ACAO                                                         2020-06-02   \nHR_LCL_VIST                                                       09:54:30   \nTX_IP_VIS                                 10.112.14.148                      \nCD_UOR                                                                5750   \nNM_UOR_RDZ                                            ASSIS CHATEAUBRIAND    \nHR_ACAO                                                           15:46:45   \nTEMPO_RESPOSTA                                                        1462   \nTX_IDFC_USU                                                       F6329499   \nUF                                                                      PR   \nNM_TIP_ACAO              plataforma.atendimento.bb.com.br/estatico/gaw/...   \nHORA_TRS                                                                15   \nDIA_MES                                                                 02   \nDIA_PICO                                                                 1   \nDIA_UTIL                                                                 1   \nCONTEXTO                                                               gaw   \nAPP                                  widget-identificacao-cliente.app.html   \nHORA_LOCAL                                                              12   \nDT_ACAO_DATETIME                                       2020-06-02 00:00:00   \nHORA_COMERCIAL                                                           1   \nTEMPO_RESPOSTA_SEGUNDOS                                              1.462   \nTIMEOUT                                                                  0   \nCLASSE_APP                                          Alto (1.42 - 2.09 seg)   \n\n                                                                   5611239  \\\nCD_VIS                                                  200000000787046914   \nDT_ACAO                                                         2020-06-01   \nHR_LCL_VIST                                                       09:43:15   \nTX_IP_VIS                                 10.100.154.164                     \nCD_UOR                                                               75796   \nNM_UOR_RDZ                                            LUIZ ALVES             \nHR_ACAO                                                           12:56:07   \nTEMPO_RESPOSTA                                                        3532   \nTX_IDFC_USU                                                       F2892549   \nUF                                                                      SC   \nNM_TIP_ACAO              plataforma.atendimento.bb.com.br/estatico/gaw-...   \nHORA_TRS                                                                12   \nDIA_MES                                                                 01   \nDIA_PICO                                                                 1   \nDIA_UTIL                                                                 1   \nCONTEXTO                                                         gaw-aplic   \nAPP                                                   tela-inicio-app.html   \nHORA_LOCAL                                                               9   \nDT_ACAO_DATETIME                                       2020-06-01 00:00:00   \nHORA_COMERCIAL                                                           1   \nTEMPO_RESPOSTA_SEGUNDOS                                              3.532   \nTIMEOUT                                                                  0   \nCLASSE_APP                                      Super Alto (3.24 - 30 seg)   \n\n                                                                   9705579  \\\nCD_VIS                                                  200000000789817456   \nDT_ACAO                                                         2020-06-02   \nHR_LCL_VIST                                                       17:06:06   \nTX_IP_VIS                                 10.56.58.147                       \nCD_UOR                                                               85498   \nNM_UOR_RDZ                                            ESTILO MACAPA          \nHR_ACAO                                                           21:19:46   \nTEMPO_RESPOSTA                                                         428   \nTX_IDFC_USU                                                       F6793015   \nUF                                                                      AP   \nNM_TIP_ACAO              plataforma.atendimento.bb.com.br/pnd/APPS/apli...   \nHORA_TRS                                                                21   \nDIA_MES                                                                 02   \nDIA_PICO                                                                 1   \nDIA_UTIL                                                                 1   \nCONTEXTO                                                               pnd   \nAPP                                                        aplicacaoPN4.bb   \nHORA_LOCAL                                                              18   \nDT_ACAO_DATETIME                                       2020-06-02 00:00:00   \nHORA_COMERCIAL                                                           1   \nTEMPO_RESPOSTA_SEGUNDOS                                              0.428   \nTIMEOUT                                                                  0   \nCLASSE_APP                                         Baixo (0.39 - 0.59 seg)   \n\n                                                                   702974   \nCD_VIS                                                  200000000786763150  \nDT_ACAO                                                         2020-06-01  \nHR_LCL_VIST                                                       07:56:57  \nTX_IP_VIS                                 10.2.244.74                       \nCD_UOR                                                              442533  \nNM_UOR_RDZ                                            ESCR.EXC.ALECRIM      \nHR_ACAO                                                           19:30:01  \nTEMPO_RESPOSTA                                                        2123  \nTX_IDFC_USU                                                       F4324249  \nUF                                                                      RN  \nNM_TIP_ACAO              plataforma.atendimento.bb.com.br/estatico/opr/...  \nHORA_TRS                                                                19  \nDIA_MES                                                                 01  \nDIA_PICO                                                                 1  \nDIA_UTIL                                                                 1  \nCONTEXTO                                                               opr  \nAPP                                      painel-operacoes-cliente-app.html  \nHORA_LOCAL                                                              16  \nDT_ACAO_DATETIME                                       2020-06-01 00:00:00  \nHORA_COMERCIAL                                                           1  \nTEMPO_RESPOSTA_SEGUNDOS                                              2.123  \nTIMEOUT                                                                  0  \nCLASSE_APP                                     Muito Alto (2.09 - 3.3 seg)  ",
      "text/html": "<div>\n<style scoped>\n    .dataframe tbody tr th:only-of-type {\n        vertical-align: middle;\n    }\n\n    .dataframe tbody tr th {\n        vertical-align: top;\n    }\n\n    .dataframe thead th {\n        text-align: right;\n    }\n</style>\n<table border=\"1\" class=\"dataframe\">\n  <thead>\n    <tr style=\"text-align: right;\">\n      <th></th>\n      <th>1946393</th>\n      <th>4403030</th>\n      <th>5611239</th>\n      <th>9705579</th>\n      <th>702974</th>\n    </tr>\n  </thead>\n  <tbody>\n    <tr>\n      <td>CD_VIS</td>\n      <td>200000000788340622</td>\n      <td>200000000788679670</td>\n      <td>200000000787046914</td>\n      <td>200000000789817456</td>\n      <td>200000000786763150</td>\n    </tr>\n    <tr>\n      <td>DT_ACAO</td>\n      <td>2020-06-02</td>\n      <td>2020-06-02</td>\n      <td>2020-06-01</td>\n      <td>2020-06-02</td>\n      <td>2020-06-01</td>\n    </tr>\n    <tr>\n      <td>HR_LCL_VIST</td>\n      <td>07:32:16</td>\n      <td>09:54:30</td>\n      <td>09:43:15</td>\n      <td>17:06:06</td>\n      <td>07:56:57</td>\n    </tr>\n    <tr>\n      <td>TX_IP_VIS</td>\n      <td>10.203.62.135</td>\n      <td>10.112.14.148</td>\n      <td>10.100.154.164</td>\n      <td>10.56.58.147</td>\n      <td>10.2.244.74</td>\n    </tr>\n    <tr>\n      <td>CD_UOR</td>\n      <td>450062</td>\n      <td>5750</td>\n      <td>75796</td>\n      <td>85498</td>\n      <td>442533</td>\n    </tr>\n    <tr>\n      <td>NM_UOR_RDZ</td>\n      <td>ESCR.EXC.TERRA LUZ</td>\n      <td>ASSIS CHATEAUBRIAND</td>\n      <td>LUIZ ALVES</td>\n      <td>ESTILO MACAPA</td>\n      <td>ESCR.EXC.ALECRIM</td>\n    </tr>\n    <tr>\n      <td>HR_ACAO</td>\n      <td>14:12:21</td>\n      <td>15:46:45</td>\n      <td>12:56:07</td>\n      <td>21:19:46</td>\n      <td>19:30:01</td>\n    </tr>\n    <tr>\n      <td>TEMPO_RESPOSTA</td>\n      <td>511</td>\n      <td>1462</td>\n      <td>3532</td>\n      <td>428</td>\n      <td>2123</td>\n    </tr>\n    <tr>\n      <td>TX_IDFC_USU</td>\n      <td>F4511714</td>\n      <td>F6329499</td>\n      <td>F2892549</td>\n      <td>F6793015</td>\n      <td>F4324249</td>\n    </tr>\n    <tr>\n      <td>UF</td>\n      <td>CE</td>\n      <td>PR</td>\n      <td>SC</td>\n      <td>AP</td>\n      <td>RN</td>\n    </tr>\n    <tr>\n      <td>NM_TIP_ACAO</td>\n      <td>plataforma.atendimento.bb.com.br/estatico/gat/...</td>\n      <td>plataforma.atendimento.bb.com.br/estatico/gaw/...</td>\n      <td>plataforma.atendimento.bb.com.br/estatico/gaw-...</td>\n      <td>plataforma.atendimento.bb.com.br/pnd/APPS/apli...</td>\n      <td>plataforma.atendimento.bb.com.br/estatico/opr/...</td>\n    </tr>\n    <tr>\n      <td>HORA_TRS</td>\n      <td>14</td>\n      <td>15</td>\n      <td>12</td>\n      <td>21</td>\n      <td>19</td>\n    </tr>\n    <tr>\n      <td>DIA_MES</td>\n      <td>02</td>\n      <td>02</td>\n      <td>01</td>\n      <td>02</td>\n      <td>01</td>\n    </tr>\n    <tr>\n      <td>DIA_PICO</td>\n      <td>1</td>\n      <td>1</td>\n      <td>1</td>\n      <td>1</td>\n      <td>1</td>\n    </tr>\n    <tr>\n      <td>DIA_UTIL</td>\n      <td>1</td>\n      <td>1</td>\n      <td>1</td>\n      <td>1</td>\n      <td>1</td>\n    </tr>\n    <tr>\n      <td>CONTEXTO</td>\n      <td>gat</td>\n      <td>gaw</td>\n      <td>gaw-aplic</td>\n      <td>pnd</td>\n      <td>opr</td>\n    </tr>\n    <tr>\n      <td>APP</td>\n      <td>fila-telefonica-detalhe.app.html</td>\n      <td>widget-identificacao-cliente.app.html</td>\n      <td>tela-inicio-app.html</td>\n      <td>aplicacaoPN4.bb</td>\n      <td>painel-operacoes-cliente-app.html</td>\n    </tr>\n    <tr>\n      <td>HORA_LOCAL</td>\n      <td>11</td>\n      <td>12</td>\n      <td>9</td>\n      <td>18</td>\n      <td>16</td>\n    </tr>\n    <tr>\n      <td>DT_ACAO_DATETIME</td>\n      <td>2020-06-02 00:00:00</td>\n      <td>2020-06-02 00:00:00</td>\n      <td>2020-06-01 00:00:00</td>\n      <td>2020-06-02 00:00:00</td>\n      <td>2020-06-01 00:00:00</td>\n    </tr>\n    <tr>\n      <td>HORA_COMERCIAL</td>\n      <td>1</td>\n      <td>1</td>\n      <td>1</td>\n      <td>1</td>\n      <td>1</td>\n    </tr>\n    <tr>\n      <td>TEMPO_RESPOSTA_SEGUNDOS</td>\n      <td>0.511</td>\n      <td>1.462</td>\n      <td>3.532</td>\n      <td>0.428</td>\n      <td>2.123</td>\n    </tr>\n    <tr>\n      <td>TIMEOUT</td>\n      <td>0</td>\n      <td>0</td>\n      <td>0</td>\n      <td>0</td>\n      <td>0</td>\n    </tr>\n    <tr>\n      <td>CLASSE_APP</td>\n      <td>Baixo (0.39 - 0.59 seg)</td>\n      <td>Alto (1.42 - 2.09 seg)</td>\n      <td>Super Alto (3.24 - 30 seg)</td>\n      <td>Baixo (0.39 - 0.59 seg)</td>\n      <td>Muito Alto (2.09 - 3.3 seg)</td>\n    </tr>\n  </tbody>\n</table>\n</div>"
     },
     "metadata": {},
     "execution_count": 31
    }
   ],
   "source": [
    "df.head().T"
   ]
  },
  {
   "cell_type": "code",
   "execution_count": 32,
   "metadata": {},
   "outputs": [
    {
     "output_type": "execute_result",
     "data": {
      "text/plain": "CD_VIS                        0\nDT_ACAO                       0\nHR_LCL_VIST                   0\nTX_IP_VIS                     0\nCD_UOR                        0\nNM_UOR_RDZ                    0\nHR_ACAO                       0\nTEMPO_RESPOSTA                0\nTX_IDFC_USU                1068\nUF                            0\nNM_TIP_ACAO                   0\nHORA_TRS                      0\nDIA_MES                       0\nDIA_PICO                      0\nDIA_UTIL                      0\nCONTEXTO                      0\nAPP                           0\nHORA_LOCAL                    0\nDT_ACAO_DATETIME              0\nHORA_COMERCIAL                0\nTEMPO_RESPOSTA_SEGUNDOS       0\nTIMEOUT                       0\nCLASSE_APP                    0\ndtype: int64"
     },
     "metadata": {},
     "execution_count": 32
    }
   ],
   "source": [
    "df.isnull().sum()"
   ]
  },
  {
   "cell_type": "code",
   "execution_count": 33,
   "metadata": {},
   "outputs": [],
   "source": [
    "#temp = df.groupby(['CONTEXTO','APP','NM_TIP_ACAO']).agg({'TEMPO_RESPOSTA_SEGUNDOS':'count'},index=False).reset_index().rename(columns={\"TEMPO_RESPOSTA_SEGUNDOS\": \"Qtde\"})\n",
    "#temp = df.groupby(['CONTEXTO','APP','NM_TIP_ACAO']).agg({'TEMPO_RESPOSTA_SEGUNDOS':'count'},index=False).reset_index().rename(columns={\"TEMPO_RESPOSTA_SEGUNDOS\": \"Qtde\"})\n",
    "#temp.to_csv('../data/contextos_app.csv',index=False,sep=';')\n",
    "#temp"
   ]
  },
  {
   "cell_type": "code",
   "execution_count": 34,
   "metadata": {},
   "outputs": [
    {
     "output_type": "execute_result",
     "data": {
      "text/plain": "count     20000.000000\nmean       1402.704354\nstd       31926.532637\nmin           0.000000\n25%           0.397000\n50%           0.934000\n75%           2.094000\nmax      933670.016000\nName: TEMPO_RESPOSTA_SEGUNDOS, dtype: float64"
     },
     "metadata": {},
     "execution_count": 34
    }
   ],
   "source": [
    "df.TEMPO_RESPOSTA_SEGUNDOS.describe()"
   ]
  },
  {
   "cell_type": "code",
   "execution_count": 35,
   "metadata": {},
   "outputs": [
    {
     "output_type": "execute_result",
     "data": {
      "text/plain": "CD_VIS                        0\nDT_ACAO                       0\nHR_LCL_VIST                   0\nTX_IP_VIS                     0\nCD_UOR                        0\nNM_UOR_RDZ                    0\nHR_ACAO                       0\nTEMPO_RESPOSTA                0\nTX_IDFC_USU                1068\nUF                            0\nNM_TIP_ACAO                   0\nHORA_TRS                      0\nDIA_MES                       0\nDIA_PICO                      0\nDIA_UTIL                      0\nCONTEXTO                      0\nAPP                           0\nHORA_LOCAL                    0\nDT_ACAO_DATETIME              0\nHORA_COMERCIAL                0\nTEMPO_RESPOSTA_SEGUNDOS       0\nTIMEOUT                       0\nCLASSE_APP                    0\ndtype: int64"
     },
     "metadata": {},
     "execution_count": 35
    }
   ],
   "source": [
    "df.isnull().sum()"
   ]
  },
  {
   "cell_type": "code",
   "execution_count": 36,
   "metadata": {},
   "outputs": [],
   "source": [
    "df.drop(columns=[\"NM_TIP_ACAO\"],inplace=True)"
   ]
  },
  {
   "cell_type": "code",
   "execution_count": 37,
   "metadata": {},
   "outputs": [],
   "source": [
    "df.to_csv('../data/base_plataforma_completo_final.csv',sep=';',index=False)"
   ]
  },
  {
   "cell_type": "code",
   "execution_count": null,
   "metadata": {},
   "outputs": [],
   "source": []
  }
 ],
 "metadata": {
  "kernelspec": {
   "display_name": "Python 3",
   "language": "python",
   "name": "python3"
  },
  "language_info": {
   "codemirror_mode": {
    "name": "ipython",
    "version": 3
   },
   "file_extension": ".py",
   "mimetype": "text/x-python",
   "name": "python",
   "nbconvert_exporter": "python",
   "pygments_lexer": "ipython3",
   "version": "3.7.4-final"
  }
 },
 "nbformat": 4,
 "nbformat_minor": 4
}