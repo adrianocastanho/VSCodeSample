{
 "cells": [
  {
   "cell_type": "code",
   "execution_count": 1,
   "metadata": {},
   "outputs": [],
   "source": [
    "import pandas as pd\n",
    "import numpy as np\n",
    "import copy\n",
    "import datetime\n",
    "import multiprocessing as mp\n",
    "from matplotlib import pyplot as plt"
   ]
  },
  {
   "cell_type": "code",
   "execution_count": 2,
   "metadata": {},
   "outputs": [],
   "source": [
    "pd.set_option('display.float_format', lambda x: '%.2f' % x)"
   ]
  },
  {
   "cell_type": "code",
   "execution_count": 37,
   "metadata": {},
   "outputs": [],
   "source": [
    "arquivos = ['matomo_completo_30062020.csv','matomo_completo_24-26062020.csv','matomo_completo_22-23062020.csv','matomo_completo_17-19062020.csv','matomo_completo_15-16062020.csv','matomo_completo_10-12062020.csv','matomo_completo_08-09062020.csv','matomo_completo_04-05062020.csv','matomo_completo_02062020.csv']\n",
    "arquivos = ['matomo_completo_01-03062020.csv']\n",
    "#arquivos.append('matomo_completo_01-03062020.csv')\n",
    "#arquivos.append('matomo_completo_04-05062020.csv')\n",
    "##arquivos.append('matomo_completo_08-09062020.csv')\n",
    "#arquivos.append('matomo_completo_10-12062020.csv')\n",
    "#arquivos.append('matomo_completo_15-16062020.csv')\n",
    "#arquivos.append('matomo_completo_17-19062020.csv')\n",
    "#arquivos.append('matomo_completo_22-23062020.csv')\n",
    "#arquivos.append('matomo_completo_24-26062020.csv')\n",
    "#arquivos.append('matomo_completo_29062020.csv')\n"
   ]
  },
  {
   "cell_type": "code",
   "execution_count": 4,
   "metadata": {},
   "outputs": [
    {
     "output_type": "execute_result",
     "data": {
      "text/plain": "['matomo_completo_30062020.csv']"
     },
     "metadata": {},
     "execution_count": 4
    }
   ],
   "source": [
    "arquivos"
   ]
  },
  {
   "cell_type": "code",
   "execution_count": 38,
   "metadata": {},
   "outputs": [],
   "source": [
    "df = pd.DataFrame([],columns=['CD_VIS', 'DT_ACAO', 'HR_LCL_VIST', 'TX_IP_VIS', 'CD_UOR', 'NM_UOR_RDZ',\n",
    "       'HR_ACAO', 'TEMPO_RESPOSTA', 'TX_IDFC_USU', 'UF', 'NM_TIP_ACAO',\n",
    "       'HORA_TRS', 'DIA_MES', 'DIA_PICO', 'DIA_UTIL', 'CONTEXTO', 'APP',\n",
    "       'HORA_LOCAL', 'DT_ACAO_DATETIME', 'HORA_COMERCIAL',\n",
    "       'TEMPO_RESPOSTA_SEGUNDOS', 'TIMEOUT'])\n",
    "for arq in arquivos:\n",
    "    df_temp = pd.read_csv('../data/'+arq,sep=';',low_memory=False)#.sample(2000,random_state=1024)\n",
    "    \n",
    "    df = pd.concat([df,df_temp],sort=False)\n",
    "\n",
    "df_temp =[]\n",
    "    "
   ]
  },
  {
   "cell_type": "code",
   "execution_count": 39,
   "metadata": {},
   "outputs": [
    {
     "output_type": "execute_result",
     "data": {
      "text/plain": "14795558"
     },
     "metadata": {},
     "execution_count": 39
    }
   ],
   "source": [
    "len(df)"
   ]
  },
  {
   "cell_type": "code",
   "execution_count": 7,
   "metadata": {},
   "outputs": [
    {
     "output_type": "execute_result",
     "data": {
      "text/plain": "Index(['CD_VIS', 'DT_ACAO', 'HR_LCL_VIST', 'TX_IP_VIS', 'CD_UOR', 'NM_UOR_RDZ',\n       'HR_ACAO', 'TEMPO_RESPOSTA', 'TX_IDFC_USU', 'UF', 'NM_TIP_ACAO',\n       'HORA_TRS', 'DIA_MES', 'DIA_PICO', 'DIA_UTIL', 'CONTEXTO', 'APP',\n       'HORA_LOCAL', 'DT_ACAO_DATETIME', 'HORA_COMERCIAL',\n       'TEMPO_RESPOSTA_SEGUNDOS', 'TIMEOUT'],\n      dtype='object')"
     },
     "metadata": {},
     "execution_count": 7
    }
   ],
   "source": [
    "df.columns"
   ]
  },
  {
   "cell_type": "code",
   "execution_count": 8,
   "metadata": {},
   "outputs": [
    {
     "output_type": "execute_result",
     "data": {
      "text/plain": "Empty DataFrame\nColumns: []\nIndex: [CD_VIS, DT_ACAO, HR_LCL_VIST, TX_IP_VIS, CD_UOR, NM_UOR_RDZ, HR_ACAO, TEMPO_RESPOSTA, TX_IDFC_USU, UF, NM_TIP_ACAO, HORA_TRS, DIA_MES, DIA_PICO, DIA_UTIL, CONTEXTO, APP, HORA_LOCAL, DT_ACAO_DATETIME, HORA_COMERCIAL, TEMPO_RESPOSTA_SEGUNDOS, TIMEOUT]",
      "text/html": "<div>\n<style scoped>\n    .dataframe tbody tr th:only-of-type {\n        vertical-align: middle;\n    }\n\n    .dataframe tbody tr th {\n        vertical-align: top;\n    }\n\n    .dataframe thead th {\n        text-align: right;\n    }\n</style>\n<table border=\"1\" class=\"dataframe\">\n  <thead>\n    <tr style=\"text-align: right;\">\n      <th></th>\n    </tr>\n  </thead>\n  <tbody>\n    <tr>\n      <td>CD_VIS</td>\n    </tr>\n    <tr>\n      <td>DT_ACAO</td>\n    </tr>\n    <tr>\n      <td>HR_LCL_VIST</td>\n    </tr>\n    <tr>\n      <td>TX_IP_VIS</td>\n    </tr>\n    <tr>\n      <td>CD_UOR</td>\n    </tr>\n    <tr>\n      <td>NM_UOR_RDZ</td>\n    </tr>\n    <tr>\n      <td>HR_ACAO</td>\n    </tr>\n    <tr>\n      <td>TEMPO_RESPOSTA</td>\n    </tr>\n    <tr>\n      <td>TX_IDFC_USU</td>\n    </tr>\n    <tr>\n      <td>UF</td>\n    </tr>\n    <tr>\n      <td>NM_TIP_ACAO</td>\n    </tr>\n    <tr>\n      <td>HORA_TRS</td>\n    </tr>\n    <tr>\n      <td>DIA_MES</td>\n    </tr>\n    <tr>\n      <td>DIA_PICO</td>\n    </tr>\n    <tr>\n      <td>DIA_UTIL</td>\n    </tr>\n    <tr>\n      <td>CONTEXTO</td>\n    </tr>\n    <tr>\n      <td>APP</td>\n    </tr>\n    <tr>\n      <td>HORA_LOCAL</td>\n    </tr>\n    <tr>\n      <td>DT_ACAO_DATETIME</td>\n    </tr>\n    <tr>\n      <td>HORA_COMERCIAL</td>\n    </tr>\n    <tr>\n      <td>TEMPO_RESPOSTA_SEGUNDOS</td>\n    </tr>\n    <tr>\n      <td>TIMEOUT</td>\n    </tr>\n  </tbody>\n</table>\n</div>"
     },
     "metadata": {},
     "execution_count": 8
    }
   ],
   "source": [
    "df.head().T"
   ]
  },
  {
   "cell_type": "code",
   "execution_count": 9,
   "metadata": {},
   "outputs": [
    {
     "output_type": "execute_result",
     "data": {
      "text/plain": "CD_VIS                     object\nDT_ACAO                    object\nHR_LCL_VIST                object\nTX_IP_VIS                  object\nCD_UOR                     object\nNM_UOR_RDZ                 object\nHR_ACAO                    object\nTEMPO_RESPOSTA             object\nTX_IDFC_USU                object\nUF                         object\nNM_TIP_ACAO                object\nHORA_TRS                   object\nDIA_MES                    object\nDIA_PICO                   object\nDIA_UTIL                   object\nCONTEXTO                   object\nAPP                        object\nHORA_LOCAL                 object\nDT_ACAO_DATETIME           object\nHORA_COMERCIAL             object\nTEMPO_RESPOSTA_SEGUNDOS    object\nTIMEOUT                    object\ndtype: object"
     },
     "metadata": {},
     "execution_count": 9
    }
   ],
   "source": [
    "df.dtypes"
   ]
  },
  {
   "cell_type": "code",
   "execution_count": 10,
   "metadata": {},
   "outputs": [
    {
     "output_type": "execute_result",
     "data": {
      "text/plain": "CD_VIS                     0\nDT_ACAO                    0\nHR_LCL_VIST                0\nTX_IP_VIS                  0\nCD_UOR                     0\nNM_UOR_RDZ                 0\nHR_ACAO                    0\nTEMPO_RESPOSTA             0\nTX_IDFC_USU                0\nUF                         0\nNM_TIP_ACAO                0\nHORA_TRS                   0\nDIA_MES                    0\nDIA_PICO                   0\nDIA_UTIL                   0\nCONTEXTO                   0\nAPP                        0\nHORA_LOCAL                 0\nDT_ACAO_DATETIME           0\nHORA_COMERCIAL             0\nTEMPO_RESPOSTA_SEGUNDOS    0\nTIMEOUT                    0\ndtype: int64"
     },
     "metadata": {},
     "execution_count": 10
    }
   ],
   "source": [
    "df.isnull().sum()"
   ]
  },
  {
   "cell_type": "code",
   "execution_count": 11,
   "metadata": {},
   "outputs": [],
   "source": [
    "df.dropna(subset=['UF', 'NM_TIP_ACAO'],inplace=True)"
   ]
  },
  {
   "cell_type": "code",
   "execution_count": 12,
   "metadata": {
    "tags": []
   },
   "outputs": [
    {
     "output_type": "stream",
     "name": "stdout",
     "text": "24\n"
    }
   ],
   "source": [
    "cores = mp.cpu_count()  #Number of CPU cores on your system\n",
    "partitions = cores \n",
    "print(partitions)"
   ]
  },
  {
   "cell_type": "code",
   "execution_count": 13,
   "metadata": {},
   "outputs": [],
   "source": [
    "def parallelize(data, func):\n",
    "    data_split = np.array_split(data, partitions)\n",
    "    pool = mp.Pool(cores)\n",
    "    data = pd.concat(pool.map(func, data_split))\n",
    "    pool.close()\n",
    "    pool.join()\n",
    "    return data"
   ]
  },
  {
   "cell_type": "code",
   "execution_count": 14,
   "metadata": {},
   "outputs": [],
   "source": [
    "def getContexto(x):\n",
    "    if type(x) == float:\n",
    "        return 'Sem Contexto'\n",
    "    \n",
    "    pos = x.find('estatico')\n",
    "    \n",
    "    if  pos == -1:\n",
    "        posInicial = 33\n",
    "        if x[32:33] == \":\":\n",
    "           posInicial = x.find('/')\n",
    "        \n",
    "    else:\n",
    "        posInicial = pos + 9\n",
    "        \n",
    "    ind = x[posInicial:len(x)]\n",
    "    \n",
    "    posFinal = ind.find('/')\n",
    "    contexto = ind[0:posFinal]\n",
    "    \n",
    "    if contexto == \"\":\n",
    "        contexto = 'Sem Contexto'\n",
    "    \n",
    "    return contexto\n",
    "    "
   ]
  },
  {
   "cell_type": "code",
   "execution_count": 15,
   "metadata": {},
   "outputs": [],
   "source": [
    "def getApp(x):\n",
    "    \n",
    "    if type(x) == float:\n",
    "        return 'Sem App'\n",
    "        \n",
    "    pos = x.find('#')\n",
    "        \n",
    "    if pos != -1:\n",
    "        posFinal = pos\n",
    "        \n",
    "    pos = x.find('?')\n",
    "\n",
    "    if pos != -1:\n",
    "        posFinal = pos\n",
    "    else:\n",
    "        posFinal = len(x)\n",
    "   \n",
    "  \n",
    "    posInicial = getPosInicioApp(x[0:posFinal])    \n",
    "    \n",
    "    app = x[posInicial:len(x)]\n",
    "    \n",
    "    app = getRetiraSujeira(app)\n",
    "    \n",
    "    return app\n",
    "  "
   ]
  },
  {
   "cell_type": "code",
   "execution_count": 16,
   "metadata": {},
   "outputs": [],
   "source": [
    "def getRetiraSujeira(x):\n",
    "    \n",
    "    posicao = x.find(\"?\")\n",
    "    app = x\n",
    "    \n",
    "    if posicao != -1:\n",
    "        app = x[0:posicao]\n",
    "    \n",
    "    return app    "
   ]
  },
  {
   "cell_type": "code",
   "execution_count": 17,
   "metadata": {},
   "outputs": [],
   "source": [
    "def getPosInicioApp(x):\n",
    "    pos = 0\n",
    "    for i in range(len(x),0,-1):\n",
    "        ch = x[i-1]\n",
    "        \n",
    "        if ch == '/':\n",
    "            pos = i\n",
    "            break\n",
    "            \n",
    "    return pos"
   ]
  },
  {
   "cell_type": "code",
   "execution_count": 18,
   "metadata": {},
   "outputs": [],
   "source": [
    "def getHoraLocal(x):\n",
    "    hora = int(x.HORA_TRS) - 3 \n",
    "    if hora == -1:\n",
    "        hora = 23\n",
    "    elif hora == -2:\n",
    "        hora = 22\n",
    "    elif hora == -3:\n",
    "        hora = 21 \n",
    "    \n",
    "    if x.UF in ['AM','RR','RO']:\n",
    "        hora = int(x.HORA_TRS) - 4\n",
    "        \n",
    "        if hora == -1:\n",
    "            hora = 23\n",
    "        elif hora == -2:\n",
    "            hora = 22\n",
    "        elif hora == -3:\n",
    "            hora = 21 \n",
    "        elif hora == -4:\n",
    "            hora = 20\n",
    "            \n",
    "    if x.UF in 'AC':\n",
    "        hora = int(x.HORA_TRS) - 5\n",
    "        \n",
    "        if hora == -1:\n",
    "            hora = 23\n",
    "        elif hora == -2:\n",
    "            hora = 22\n",
    "        elif hora == -3:\n",
    "            hora = 21 \n",
    "        elif hora == -4:\n",
    "            hora = 20\n",
    "        elif hora == -5:\n",
    "            hora = 19\n",
    "          \n",
    "    return hora\n",
    "    "
   ]
  },
  {
   "cell_type": "code",
   "execution_count": 19,
   "metadata": {},
   "outputs": [],
   "source": [
    "def setDiaUtil(x):\n",
    "    x['DIA_UTIL'] = 1\n",
    "    x.loc[x['DT_ACAO'] == '2020-06-06','DIA_UTIL'] = 0\n",
    "    x.loc[x['DT_ACAO'] == '2020-06-07','DIA_UTIL'] = 0\n",
    "    x.loc[x['DT_ACAO'] == '2020-06-11','DIA_UTIL'] = 0\n",
    "    x.loc[x['DT_ACAO'] == '2020-06-13','DIA_UTIL'] = 0\n",
    "    x.loc[x['DT_ACAO'] == '2020-06-14','DIA_UTIL'] = 0\n",
    "    x.loc[x['DT_ACAO'] == '2020-06-20','DIA_UTIL'] = 0\n",
    "    x.loc[x['DT_ACAO'] == '2020-06-21','DIA_UTIL'] = 0\n",
    "    x.loc[x['DT_ACAO'] == '2020-06-27','DIA_UTIL'] = 0\n",
    "    x.loc[x['DT_ACAO'] == '2020-06-28','DIA_UTIL'] = 0\n",
    "    return x"
   ]
  },
  {
   "cell_type": "code",
   "execution_count": 20,
   "metadata": {},
   "outputs": [],
   "source": [
    "def getDiaUtil(x):\n",
    "    return datetime.datetime.x.weekday()\n"
   ]
  },
  {
   "cell_type": "code",
   "execution_count": 21,
   "metadata": {},
   "outputs": [],
   "source": [
    "def processaArquivo(data): \n",
    "    data['HORA_TRS'] = data['HR_ACAO'].str[0:2]  \n",
    "    data['DIA_MES'] = data['DT_ACAO'].str[8:10]\n",
    "    \n",
    "    data['DIA_PICO'] = data.DIA_MES.apply(lambda x: 1 if x in ['30','31','01','02','03','04','05','06','07','08','09','10'] else 0)\n",
    "   \n",
    "    data['DIA_UTIL'] = 1\n",
    "    data.loc[data['DT_ACAO'] == '2020-06-06','DIA_UTIL'] = 0\n",
    "    data.loc[data['DT_ACAO'] == '2020-06-07','DIA_UTIL'] = 0\n",
    "    data.loc[data['DT_ACAO'] == '2020-06-11','DIA_UTIL'] = 0\n",
    "    data.loc[data['DT_ACAO'] == '2020-06-13','DIA_UTIL'] = 0\n",
    "    data.loc[data['DT_ACAO'] == '2020-06-14','DIA_UTIL'] = 0\n",
    "    data.loc[data['DT_ACAO'] == '2020-06-20','DIA_UTIL'] = 0\n",
    "    data.loc[data['DT_ACAO'] == '2020-06-21','DIA_UTIL'] = 0\n",
    "    data.loc[data['DT_ACAO'] == '2020-06-27','DIA_UTIL'] = 0\n",
    "    data.loc[data['DT_ACAO'] == '2020-06-28','DIA_UTIL'] = 0\n",
    "    \n",
    "    data['NM_TIP_ACAO'] = data.NM_TIP_ACAO.apply(lambda x: x.strip())\n",
    "    \n",
    "    data['CONTEXTO'] = data.NM_TIP_ACAO.apply(lambda x: getContexto(x))\n",
    "                                                 \n",
    "    data['APP'] = data.NM_TIP_ACAO.apply(lambda x: getApp(x))   \n",
    "    \n",
    "    data['HORA_LOCAL'] = data.apply(lambda x: getHoraLocal(x),axis=1)\n",
    "    data['DT_ACAO_DATETIME'] = pd.to_datetime(data['DT_ACAO'])\n",
    "    \n",
    "    data['HORA_COMERCIAL'] = 0\n",
    "    data.loc[(data['HORA_TRS'] >= '08') | (data['HORA_TRS'] >= '18'),'HORA_COMERCIAL'] = 1\n",
    "    \n",
    "    data['TEMPO_RESPOSTA_SEGUNDOS'] = data['TEMPO_RESPOSTA']/1000\n",
    "\n",
    "    data['TIMEOUT'] = 0\n",
    "    data.loc[data['TEMPO_RESPOSTA_SEGUNDOS'] > 30,'TIMEOUT'] = 1      \n",
    "    \n",
    "     \n",
    "    return data"
   ]
  },
  {
   "cell_type": "code",
   "execution_count": 22,
   "metadata": {},
   "outputs": [
    {
     "output_type": "error",
     "ename": "ValueError",
     "evalue": "Cannot set a frame with no defined index and a value that cannot be converted to a Series",
     "traceback": [
      "\u001b[0;31m---------------------------------------------------------------------------\u001b[0m",
      "\u001b[0;31mRemoteTraceback\u001b[0m                           Traceback (most recent call last)",
      "\u001b[0;31mRemoteTraceback\u001b[0m: \n\"\"\"\nTraceback (most recent call last):\n  File \"/Users/adrianocastanho/opt/anaconda3/lib/python3.7/site-packages/pandas/core/frame.py\", line 3525, in _ensure_valid_index\n    value = Series(value)\n  File \"/Users/adrianocastanho/opt/anaconda3/lib/python3.7/site-packages/pandas/core/series.py\", line 313, in __init__\n    data = SingleBlockManager(data, index, fastpath=True)\n  File \"/Users/adrianocastanho/opt/anaconda3/lib/python3.7/site-packages/pandas/core/internals/managers.py\", line 1516, in __init__\n    block = make_block(block, placement=slice(0, len(axis)), ndim=1)\n  File \"/Users/adrianocastanho/opt/anaconda3/lib/python3.7/site-packages/pandas/core/internals/blocks.py\", line 3267, in make_block\n    return klass(values, ndim=ndim, placement=placement)\n  File \"/Users/adrianocastanho/opt/anaconda3/lib/python3.7/site-packages/pandas/core/internals/blocks.py\", line 2775, in __init__\n    super().__init__(values, ndim=ndim, placement=placement)\n  File \"/Users/adrianocastanho/opt/anaconda3/lib/python3.7/site-packages/pandas/core/internals/blocks.py\", line 128, in __init__\n    \"{mgr}\".format(val=len(self.values), mgr=len(self.mgr_locs))\nValueError: Wrong number of items passed 22, placement implies 0\n\nDuring handling of the above exception, another exception occurred:\n\nTraceback (most recent call last):\n  File \"/Users/adrianocastanho/opt/anaconda3/lib/python3.7/multiprocessing/pool.py\", line 121, in worker\n    result = (True, func(*args, **kwds))\n  File \"/Users/adrianocastanho/opt/anaconda3/lib/python3.7/multiprocessing/pool.py\", line 44, in mapstar\n    return list(map(*args))\n  File \"<ipython-input-21-841d1ee95d50>\", line 24, in processaArquivo\n    data['HORA_LOCAL'] = data.apply(lambda x: getHoraLocal(x),axis=1)\n  File \"/Users/adrianocastanho/opt/anaconda3/lib/python3.7/site-packages/pandas/core/frame.py\", line 3472, in __setitem__\n    self._set_item(key, value)\n  File \"/Users/adrianocastanho/opt/anaconda3/lib/python3.7/site-packages/pandas/core/frame.py\", line 3548, in _set_item\n    self._ensure_valid_index(value)\n  File \"/Users/adrianocastanho/opt/anaconda3/lib/python3.7/site-packages/pandas/core/frame.py\", line 3528, in _ensure_valid_index\n    \"Cannot set a frame with no defined index \"\nValueError: Cannot set a frame with no defined index and a value that cannot be converted to a Series\n\"\"\"",
      "\nThe above exception was the direct cause of the following exception:\n",
      "\u001b[0;31mValueError\u001b[0m                                Traceback (most recent call last)",
      "\u001b[0;32m<ipython-input-22-dcf4549bc079>\u001b[0m in \u001b[0;36m<module>\u001b[0;34m\u001b[0m\n\u001b[0;32m----> 1\u001b[0;31m \u001b[0mdf\u001b[0m \u001b[0;34m=\u001b[0m \u001b[0mparallelize\u001b[0m\u001b[0;34m(\u001b[0m\u001b[0mdf\u001b[0m\u001b[0;34m,\u001b[0m\u001b[0mprocessaArquivo\u001b[0m\u001b[0;34m)\u001b[0m\u001b[0;34m\u001b[0m\u001b[0;34m\u001b[0m\u001b[0m\n\u001b[0m",
      "\u001b[0;32m<ipython-input-13-97903b7ca3e2>\u001b[0m in \u001b[0;36mparallelize\u001b[0;34m(data, func)\u001b[0m\n\u001b[1;32m      2\u001b[0m     \u001b[0mdata_split\u001b[0m \u001b[0;34m=\u001b[0m \u001b[0mnp\u001b[0m\u001b[0;34m.\u001b[0m\u001b[0marray_split\u001b[0m\u001b[0;34m(\u001b[0m\u001b[0mdata\u001b[0m\u001b[0;34m,\u001b[0m \u001b[0mpartitions\u001b[0m\u001b[0;34m)\u001b[0m\u001b[0;34m\u001b[0m\u001b[0;34m\u001b[0m\u001b[0m\n\u001b[1;32m      3\u001b[0m     \u001b[0mpool\u001b[0m \u001b[0;34m=\u001b[0m \u001b[0mmp\u001b[0m\u001b[0;34m.\u001b[0m\u001b[0mPool\u001b[0m\u001b[0;34m(\u001b[0m\u001b[0mcores\u001b[0m\u001b[0;34m)\u001b[0m\u001b[0;34m\u001b[0m\u001b[0;34m\u001b[0m\u001b[0m\n\u001b[0;32m----> 4\u001b[0;31m     \u001b[0mdata\u001b[0m \u001b[0;34m=\u001b[0m \u001b[0mpd\u001b[0m\u001b[0;34m.\u001b[0m\u001b[0mconcat\u001b[0m\u001b[0;34m(\u001b[0m\u001b[0mpool\u001b[0m\u001b[0;34m.\u001b[0m\u001b[0mmap\u001b[0m\u001b[0;34m(\u001b[0m\u001b[0mfunc\u001b[0m\u001b[0;34m,\u001b[0m \u001b[0mdata_split\u001b[0m\u001b[0;34m)\u001b[0m\u001b[0;34m)\u001b[0m\u001b[0;34m\u001b[0m\u001b[0;34m\u001b[0m\u001b[0m\n\u001b[0m\u001b[1;32m      5\u001b[0m     \u001b[0mpool\u001b[0m\u001b[0;34m.\u001b[0m\u001b[0mclose\u001b[0m\u001b[0;34m(\u001b[0m\u001b[0;34m)\u001b[0m\u001b[0;34m\u001b[0m\u001b[0;34m\u001b[0m\u001b[0m\n\u001b[1;32m      6\u001b[0m     \u001b[0mpool\u001b[0m\u001b[0;34m.\u001b[0m\u001b[0mjoin\u001b[0m\u001b[0;34m(\u001b[0m\u001b[0;34m)\u001b[0m\u001b[0;34m\u001b[0m\u001b[0;34m\u001b[0m\u001b[0m\n",
      "\u001b[0;32m~/opt/anaconda3/lib/python3.7/multiprocessing/pool.py\u001b[0m in \u001b[0;36mmap\u001b[0;34m(self, func, iterable, chunksize)\u001b[0m\n\u001b[1;32m    266\u001b[0m         \u001b[0;32min\u001b[0m \u001b[0ma\u001b[0m \u001b[0mlist\u001b[0m \u001b[0mthat\u001b[0m \u001b[0;32mis\u001b[0m \u001b[0mreturned\u001b[0m\u001b[0;34m.\u001b[0m\u001b[0;34m\u001b[0m\u001b[0;34m\u001b[0m\u001b[0m\n\u001b[1;32m    267\u001b[0m         '''\n\u001b[0;32m--> 268\u001b[0;31m         \u001b[0;32mreturn\u001b[0m \u001b[0mself\u001b[0m\u001b[0;34m.\u001b[0m\u001b[0m_map_async\u001b[0m\u001b[0;34m(\u001b[0m\u001b[0mfunc\u001b[0m\u001b[0;34m,\u001b[0m \u001b[0miterable\u001b[0m\u001b[0;34m,\u001b[0m \u001b[0mmapstar\u001b[0m\u001b[0;34m,\u001b[0m \u001b[0mchunksize\u001b[0m\u001b[0;34m)\u001b[0m\u001b[0;34m.\u001b[0m\u001b[0mget\u001b[0m\u001b[0;34m(\u001b[0m\u001b[0;34m)\u001b[0m\u001b[0;34m\u001b[0m\u001b[0;34m\u001b[0m\u001b[0m\n\u001b[0m\u001b[1;32m    269\u001b[0m \u001b[0;34m\u001b[0m\u001b[0m\n\u001b[1;32m    270\u001b[0m     \u001b[0;32mdef\u001b[0m \u001b[0mstarmap\u001b[0m\u001b[0;34m(\u001b[0m\u001b[0mself\u001b[0m\u001b[0;34m,\u001b[0m \u001b[0mfunc\u001b[0m\u001b[0;34m,\u001b[0m \u001b[0miterable\u001b[0m\u001b[0;34m,\u001b[0m \u001b[0mchunksize\u001b[0m\u001b[0;34m=\u001b[0m\u001b[0;32mNone\u001b[0m\u001b[0;34m)\u001b[0m\u001b[0;34m:\u001b[0m\u001b[0;34m\u001b[0m\u001b[0;34m\u001b[0m\u001b[0m\n",
      "\u001b[0;32m~/opt/anaconda3/lib/python3.7/multiprocessing/pool.py\u001b[0m in \u001b[0;36mget\u001b[0;34m(self, timeout)\u001b[0m\n\u001b[1;32m    655\u001b[0m             \u001b[0;32mreturn\u001b[0m \u001b[0mself\u001b[0m\u001b[0;34m.\u001b[0m\u001b[0m_value\u001b[0m\u001b[0;34m\u001b[0m\u001b[0;34m\u001b[0m\u001b[0m\n\u001b[1;32m    656\u001b[0m         \u001b[0;32melse\u001b[0m\u001b[0;34m:\u001b[0m\u001b[0;34m\u001b[0m\u001b[0;34m\u001b[0m\u001b[0m\n\u001b[0;32m--> 657\u001b[0;31m             \u001b[0;32mraise\u001b[0m \u001b[0mself\u001b[0m\u001b[0;34m.\u001b[0m\u001b[0m_value\u001b[0m\u001b[0;34m\u001b[0m\u001b[0;34m\u001b[0m\u001b[0m\n\u001b[0m\u001b[1;32m    658\u001b[0m \u001b[0;34m\u001b[0m\u001b[0m\n\u001b[1;32m    659\u001b[0m     \u001b[0;32mdef\u001b[0m \u001b[0m_set\u001b[0m\u001b[0;34m(\u001b[0m\u001b[0mself\u001b[0m\u001b[0;34m,\u001b[0m \u001b[0mi\u001b[0m\u001b[0;34m,\u001b[0m \u001b[0mobj\u001b[0m\u001b[0;34m)\u001b[0m\u001b[0;34m:\u001b[0m\u001b[0;34m\u001b[0m\u001b[0;34m\u001b[0m\u001b[0m\n",
      "\u001b[0;31mValueError\u001b[0m: Cannot set a frame with no defined index and a value that cannot be converted to a Series"
     ]
    }
   ],
   "source": [
    "df = parallelize(df,processaArquivo)"
   ]
  },
  {
   "cell_type": "code",
   "execution_count": 23,
   "metadata": {},
   "outputs": [
    {
     "output_type": "error",
     "ename": "DataError",
     "evalue": "No numeric types to aggregate",
     "traceback": [
      "\u001b[0;31m---------------------------------------------------------------------------\u001b[0m",
      "\u001b[0;31mDataError\u001b[0m                                 Traceback (most recent call last)",
      "\u001b[0;32m<ipython-input-23-7372babe95a1>\u001b[0m in \u001b[0;36m<module>\u001b[0;34m\u001b[0m\n\u001b[0;32m----> 1\u001b[0;31m \u001b[0mmedia_temp\u001b[0m \u001b[0;34m=\u001b[0m \u001b[0mdf\u001b[0m\u001b[0;34m.\u001b[0m\u001b[0mgroupby\u001b[0m\u001b[0;34m(\u001b[0m\u001b[0;34m'APP'\u001b[0m\u001b[0;34m)\u001b[0m\u001b[0;34m[\u001b[0m\u001b[0;34m'TEMPO_RESPOSTA_SEGUNDOS'\u001b[0m\u001b[0;34m]\u001b[0m\u001b[0;34m.\u001b[0m\u001b[0magg\u001b[0m\u001b[0;34m(\u001b[0m\u001b[0;34m{\u001b[0m\u001b[0;34m'TEMPO_RESPOSTA_SEGUNDOS'\u001b[0m\u001b[0;34m:\u001b[0m\u001b[0;34m'mean'\u001b[0m\u001b[0;34m}\u001b[0m\u001b[0;34m,\u001b[0m\u001b[0mindex\u001b[0m\u001b[0;34m=\u001b[0m\u001b[0;32mFalse\u001b[0m\u001b[0;34m)\u001b[0m\u001b[0;34m.\u001b[0m\u001b[0mreset_index\u001b[0m\u001b[0;34m(\u001b[0m\u001b[0;34m)\u001b[0m\u001b[0;34m.\u001b[0m\u001b[0mrename\u001b[0m\u001b[0;34m(\u001b[0m\u001b[0mcolumns\u001b[0m\u001b[0;34m=\u001b[0m\u001b[0;34m{\u001b[0m\u001b[0;34m\"TEMPO_RESPOSTA_SEGUNDOS\"\u001b[0m\u001b[0;34m:\u001b[0m\u001b[0;34m\"Média\"\u001b[0m\u001b[0;34m}\u001b[0m\u001b[0;34m)\u001b[0m\u001b[0;34m\u001b[0m\u001b[0;34m\u001b[0m\u001b[0m\n\u001b[0m",
      "\u001b[0;32m~/opt/anaconda3/lib/python3.7/site-packages/pandas/core/groupby/generic.py\u001b[0m in \u001b[0;36maggregate\u001b[0;34m(self, func_or_funcs, *args, **kwargs)\u001b[0m\n\u001b[1;32m    849\u001b[0m             \u001b[0;31m# but not the class list / tuple itself.\u001b[0m\u001b[0;34m\u001b[0m\u001b[0;34m\u001b[0m\u001b[0;34m\u001b[0m\u001b[0m\n\u001b[1;32m    850\u001b[0m             \u001b[0mfunc_or_funcs\u001b[0m \u001b[0;34m=\u001b[0m \u001b[0m_maybe_mangle_lambdas\u001b[0m\u001b[0;34m(\u001b[0m\u001b[0mfunc_or_funcs\u001b[0m\u001b[0;34m)\u001b[0m\u001b[0;34m\u001b[0m\u001b[0;34m\u001b[0m\u001b[0m\n\u001b[0;32m--> 851\u001b[0;31m             \u001b[0mret\u001b[0m \u001b[0;34m=\u001b[0m \u001b[0mself\u001b[0m\u001b[0;34m.\u001b[0m\u001b[0m_aggregate_multiple_funcs\u001b[0m\u001b[0;34m(\u001b[0m\u001b[0mfunc_or_funcs\u001b[0m\u001b[0;34m,\u001b[0m \u001b[0;34m(\u001b[0m\u001b[0m_level\u001b[0m \u001b[0;32mor\u001b[0m \u001b[0;36m0\u001b[0m\u001b[0;34m)\u001b[0m \u001b[0;34m+\u001b[0m \u001b[0;36m1\u001b[0m\u001b[0;34m)\u001b[0m\u001b[0;34m\u001b[0m\u001b[0;34m\u001b[0m\u001b[0m\n\u001b[0m\u001b[1;32m    852\u001b[0m             \u001b[0;32mif\u001b[0m \u001b[0mrelabeling\u001b[0m\u001b[0;34m:\u001b[0m\u001b[0;34m\u001b[0m\u001b[0;34m\u001b[0m\u001b[0m\n\u001b[1;32m    853\u001b[0m                 \u001b[0mret\u001b[0m\u001b[0;34m.\u001b[0m\u001b[0mcolumns\u001b[0m \u001b[0;34m=\u001b[0m \u001b[0mcolumns\u001b[0m\u001b[0;34m\u001b[0m\u001b[0;34m\u001b[0m\u001b[0m\n",
      "\u001b[0;32m~/opt/anaconda3/lib/python3.7/site-packages/pandas/core/groupby/generic.py\u001b[0m in \u001b[0;36m_aggregate_multiple_funcs\u001b[0;34m(self, arg, _level)\u001b[0m\n\u001b[1;32m    928\u001b[0m                 \u001b[0mobj\u001b[0m\u001b[0;34m.\u001b[0m\u001b[0m_reset_cache\u001b[0m\u001b[0;34m(\u001b[0m\u001b[0;34m)\u001b[0m\u001b[0;34m\u001b[0m\u001b[0;34m\u001b[0m\u001b[0m\n\u001b[1;32m    929\u001b[0m                 \u001b[0mobj\u001b[0m\u001b[0;34m.\u001b[0m\u001b[0m_selection\u001b[0m \u001b[0;34m=\u001b[0m \u001b[0mname\u001b[0m\u001b[0;34m\u001b[0m\u001b[0;34m\u001b[0m\u001b[0m\n\u001b[0;32m--> 930\u001b[0;31m             \u001b[0mresults\u001b[0m\u001b[0;34m[\u001b[0m\u001b[0mname\u001b[0m\u001b[0;34m]\u001b[0m \u001b[0;34m=\u001b[0m \u001b[0mobj\u001b[0m\u001b[0;34m.\u001b[0m\u001b[0maggregate\u001b[0m\u001b[0;34m(\u001b[0m\u001b[0mfunc\u001b[0m\u001b[0;34m)\u001b[0m\u001b[0;34m\u001b[0m\u001b[0;34m\u001b[0m\u001b[0m\n\u001b[0m\u001b[1;32m    931\u001b[0m \u001b[0;34m\u001b[0m\u001b[0m\n\u001b[1;32m    932\u001b[0m         \u001b[0;32mif\u001b[0m \u001b[0many\u001b[0m\u001b[0;34m(\u001b[0m\u001b[0misinstance\u001b[0m\u001b[0;34m(\u001b[0m\u001b[0mx\u001b[0m\u001b[0;34m,\u001b[0m \u001b[0mDataFrame\u001b[0m\u001b[0;34m)\u001b[0m \u001b[0;32mfor\u001b[0m \u001b[0mx\u001b[0m \u001b[0;32min\u001b[0m \u001b[0mresults\u001b[0m\u001b[0;34m.\u001b[0m\u001b[0mvalues\u001b[0m\u001b[0;34m(\u001b[0m\u001b[0;34m)\u001b[0m\u001b[0;34m)\u001b[0m\u001b[0;34m:\u001b[0m\u001b[0;34m\u001b[0m\u001b[0;34m\u001b[0m\u001b[0m\n",
      "\u001b[0;32m~/opt/anaconda3/lib/python3.7/site-packages/pandas/core/groupby/generic.py\u001b[0m in \u001b[0;36maggregate\u001b[0;34m(self, func_or_funcs, *args, **kwargs)\u001b[0m\n\u001b[1;32m    843\u001b[0m \u001b[0;34m\u001b[0m\u001b[0m\n\u001b[1;32m    844\u001b[0m         \u001b[0;32mif\u001b[0m \u001b[0misinstance\u001b[0m\u001b[0;34m(\u001b[0m\u001b[0mfunc_or_funcs\u001b[0m\u001b[0;34m,\u001b[0m \u001b[0mstr\u001b[0m\u001b[0;34m)\u001b[0m\u001b[0;34m:\u001b[0m\u001b[0;34m\u001b[0m\u001b[0;34m\u001b[0m\u001b[0m\n\u001b[0;32m--> 845\u001b[0;31m             \u001b[0;32mreturn\u001b[0m \u001b[0mgetattr\u001b[0m\u001b[0;34m(\u001b[0m\u001b[0mself\u001b[0m\u001b[0;34m,\u001b[0m \u001b[0mfunc_or_funcs\u001b[0m\u001b[0;34m)\u001b[0m\u001b[0;34m(\u001b[0m\u001b[0;34m*\u001b[0m\u001b[0margs\u001b[0m\u001b[0;34m,\u001b[0m \u001b[0;34m**\u001b[0m\u001b[0mkwargs\u001b[0m\u001b[0;34m)\u001b[0m\u001b[0;34m\u001b[0m\u001b[0;34m\u001b[0m\u001b[0m\n\u001b[0m\u001b[1;32m    846\u001b[0m \u001b[0;34m\u001b[0m\u001b[0m\n\u001b[1;32m    847\u001b[0m         \u001b[0;32mif\u001b[0m \u001b[0misinstance\u001b[0m\u001b[0;34m(\u001b[0m\u001b[0mfunc_or_funcs\u001b[0m\u001b[0;34m,\u001b[0m \u001b[0mabc\u001b[0m\u001b[0;34m.\u001b[0m\u001b[0mIterable\u001b[0m\u001b[0;34m)\u001b[0m\u001b[0;34m:\u001b[0m\u001b[0;34m\u001b[0m\u001b[0;34m\u001b[0m\u001b[0m\n",
      "\u001b[0;32m~/opt/anaconda3/lib/python3.7/site-packages/pandas/core/groupby/groupby.py\u001b[0m in \u001b[0;36mmean\u001b[0;34m(self, *args, **kwargs)\u001b[0m\n\u001b[1;32m   1203\u001b[0m         \u001b[0;32mtry\u001b[0m\u001b[0;34m:\u001b[0m\u001b[0;34m\u001b[0m\u001b[0;34m\u001b[0m\u001b[0m\n\u001b[1;32m   1204\u001b[0m             return self._cython_agg_general(\n\u001b[0;32m-> 1205\u001b[0;31m                 \u001b[0;34m\"mean\"\u001b[0m\u001b[0;34m,\u001b[0m \u001b[0malt\u001b[0m\u001b[0;34m=\u001b[0m\u001b[0;32mlambda\u001b[0m \u001b[0mx\u001b[0m\u001b[0;34m,\u001b[0m \u001b[0maxis\u001b[0m\u001b[0;34m:\u001b[0m \u001b[0mSeries\u001b[0m\u001b[0;34m(\u001b[0m\u001b[0mx\u001b[0m\u001b[0;34m)\u001b[0m\u001b[0;34m.\u001b[0m\u001b[0mmean\u001b[0m\u001b[0;34m(\u001b[0m\u001b[0;34m**\u001b[0m\u001b[0mkwargs\u001b[0m\u001b[0;34m)\u001b[0m\u001b[0;34m,\u001b[0m \u001b[0;34m**\u001b[0m\u001b[0mkwargs\u001b[0m\u001b[0;34m\u001b[0m\u001b[0;34m\u001b[0m\u001b[0m\n\u001b[0m\u001b[1;32m   1206\u001b[0m             )\n\u001b[1;32m   1207\u001b[0m         \u001b[0;32mexcept\u001b[0m \u001b[0mGroupByError\u001b[0m\u001b[0;34m:\u001b[0m\u001b[0;34m\u001b[0m\u001b[0;34m\u001b[0m\u001b[0m\n",
      "\u001b[0;32m~/opt/anaconda3/lib/python3.7/site-packages/pandas/core/groupby/groupby.py\u001b[0m in \u001b[0;36m_cython_agg_general\u001b[0;34m(self, how, alt, numeric_only, min_count)\u001b[0m\n\u001b[1;32m    886\u001b[0m \u001b[0;34m\u001b[0m\u001b[0m\n\u001b[1;32m    887\u001b[0m         \u001b[0;32mif\u001b[0m \u001b[0mlen\u001b[0m\u001b[0;34m(\u001b[0m\u001b[0moutput\u001b[0m\u001b[0;34m)\u001b[0m \u001b[0;34m==\u001b[0m \u001b[0;36m0\u001b[0m\u001b[0;34m:\u001b[0m\u001b[0;34m\u001b[0m\u001b[0;34m\u001b[0m\u001b[0m\n\u001b[0;32m--> 888\u001b[0;31m             \u001b[0;32mraise\u001b[0m \u001b[0mDataError\u001b[0m\u001b[0;34m(\u001b[0m\u001b[0;34m\"No numeric types to aggregate\"\u001b[0m\u001b[0;34m)\u001b[0m\u001b[0;34m\u001b[0m\u001b[0;34m\u001b[0m\u001b[0m\n\u001b[0m\u001b[1;32m    889\u001b[0m \u001b[0;34m\u001b[0m\u001b[0m\n\u001b[1;32m    890\u001b[0m         \u001b[0;32mreturn\u001b[0m \u001b[0mself\u001b[0m\u001b[0;34m.\u001b[0m\u001b[0m_wrap_aggregated_output\u001b[0m\u001b[0;34m(\u001b[0m\u001b[0moutput\u001b[0m\u001b[0;34m,\u001b[0m \u001b[0mnames\u001b[0m\u001b[0;34m)\u001b[0m\u001b[0;34m\u001b[0m\u001b[0;34m\u001b[0m\u001b[0m\n",
      "\u001b[0;31mDataError\u001b[0m: No numeric types to aggregate"
     ]
    }
   ],
   "source": [
    "media_temp = df.groupby('APP')['TEMPO_RESPOSTA_SEGUNDOS'].agg({'TEMPO_RESPOSTA_SEGUNDOS':'mean'},index=False).reset_index().rename(columns={\"TEMPO_RESPOSTA_SEGUNDOS\":\"Média\"})"
   ]
  },
  {
   "cell_type": "code",
   "execution_count": 24,
   "metadata": {},
   "outputs": [
    {
     "output_type": "error",
     "ename": "NameError",
     "evalue": "name 'media_temp' is not defined",
     "traceback": [
      "\u001b[0;31m---------------------------------------------------------------------------\u001b[0m",
      "\u001b[0;31mNameError\u001b[0m                                 Traceback (most recent call last)",
      "\u001b[0;32m<ipython-input-24-2cf43852b1d8>\u001b[0m in \u001b[0;36m<module>\u001b[0;34m\u001b[0m\n\u001b[0;32m----> 1\u001b[0;31m \u001b[0mmedia_temp\u001b[0m\u001b[0;34m.\u001b[0m\u001b[0mhead\u001b[0m\u001b[0;34m(\u001b[0m\u001b[0;36m20\u001b[0m\u001b[0;34m)\u001b[0m\u001b[0;34m.\u001b[0m\u001b[0mT\u001b[0m\u001b[0;34m\u001b[0m\u001b[0;34m\u001b[0m\u001b[0m\n\u001b[0m",
      "\u001b[0;31mNameError\u001b[0m: name 'media_temp' is not defined"
     ]
    }
   ],
   "source": [
    "media_temp.head(20).T"
   ]
  },
  {
   "cell_type": "code",
   "execution_count": 25,
   "metadata": {},
   "outputs": [
    {
     "output_type": "error",
     "ename": "NameError",
     "evalue": "name 'media_temp' is not defined",
     "traceback": [
      "\u001b[0;31m---------------------------------------------------------------------------\u001b[0m",
      "\u001b[0;31mNameError\u001b[0m                                 Traceback (most recent call last)",
      "\u001b[0;32m<ipython-input-25-c4552f2eece2>\u001b[0m in \u001b[0;36m<module>\u001b[0;34m\u001b[0m\n\u001b[0;32m----> 1\u001b[0;31m \u001b[0mmedia_temp\u001b[0m\u001b[0;34m.\u001b[0m\u001b[0mto_csv\u001b[0m\u001b[0;34m(\u001b[0m\u001b[0;34m'../data/media_apps.csv'\u001b[0m\u001b[0;34m,\u001b[0m\u001b[0msep\u001b[0m\u001b[0;34m=\u001b[0m\u001b[0;34m';'\u001b[0m\u001b[0;34m,\u001b[0m\u001b[0mindex\u001b[0m\u001b[0;34m=\u001b[0m\u001b[0;32mFalse\u001b[0m\u001b[0;34m)\u001b[0m\u001b[0;34m\u001b[0m\u001b[0;34m\u001b[0m\u001b[0m\n\u001b[0m",
      "\u001b[0;31mNameError\u001b[0m: name 'media_temp' is not defined"
     ]
    }
   ],
   "source": [
    "media_temp.to_csv('../data/media_apps.csv',sep=';',index=False)"
   ]
  },
  {
   "cell_type": "code",
   "execution_count": 26,
   "metadata": {},
   "outputs": [
    {
     "output_type": "error",
     "ename": "IndexError",
     "evalue": "index 0 is out of bounds for axis 0 with size 0",
     "traceback": [
      "\u001b[0;31m---------------------------------------------------------------------------\u001b[0m",
      "\u001b[0;31mIndexError\u001b[0m                                Traceback (most recent call last)",
      "\u001b[0;32m<ipython-input-26-4244795d8ec8>\u001b[0m in \u001b[0;36m<module>\u001b[0;34m\u001b[0m\n\u001b[0;32m----> 1\u001b[0;31m \u001b[0mteste\u001b[0m \u001b[0;34m=\u001b[0m \u001b[0mpd\u001b[0m\u001b[0;34m.\u001b[0m\u001b[0mqcut\u001b[0m\u001b[0;34m(\u001b[0m\u001b[0mdf\u001b[0m\u001b[0;34m[\u001b[0m\u001b[0;34m'TEMPO_RESPOSTA_SEGUNDOS'\u001b[0m\u001b[0;34m]\u001b[0m\u001b[0;34m,\u001b[0m \u001b[0mq\u001b[0m\u001b[0;34m=\u001b[0m\u001b[0;36m8\u001b[0m\u001b[0;34m,\u001b[0m \u001b[0mduplicates\u001b[0m\u001b[0;34m=\u001b[0m\u001b[0;34m'drop'\u001b[0m\u001b[0;34m,\u001b[0m \u001b[0mprecision\u001b[0m\u001b[0;34m=\u001b[0m\u001b[0;36m2\u001b[0m\u001b[0;34m)\u001b[0m\u001b[0;34m\u001b[0m\u001b[0;34m\u001b[0m\u001b[0m\n\u001b[0m",
      "\u001b[0;32m~/opt/anaconda3/lib/python3.7/site-packages/pandas/core/reshape/tile.py\u001b[0m in \u001b[0;36mqcut\u001b[0;34m(x, q, labels, retbins, precision, duplicates)\u001b[0m\n\u001b[1;32m    347\u001b[0m         \u001b[0minclude_lowest\u001b[0m\u001b[0;34m=\u001b[0m\u001b[0;32mTrue\u001b[0m\u001b[0;34m,\u001b[0m\u001b[0;34m\u001b[0m\u001b[0;34m\u001b[0m\u001b[0m\n\u001b[1;32m    348\u001b[0m         \u001b[0mdtype\u001b[0m\u001b[0;34m=\u001b[0m\u001b[0mdtype\u001b[0m\u001b[0;34m,\u001b[0m\u001b[0;34m\u001b[0m\u001b[0;34m\u001b[0m\u001b[0m\n\u001b[0;32m--> 349\u001b[0;31m         \u001b[0mduplicates\u001b[0m\u001b[0;34m=\u001b[0m\u001b[0mduplicates\u001b[0m\u001b[0;34m,\u001b[0m\u001b[0;34m\u001b[0m\u001b[0;34m\u001b[0m\u001b[0m\n\u001b[0m\u001b[1;32m    350\u001b[0m     )\n\u001b[1;32m    351\u001b[0m \u001b[0;34m\u001b[0m\u001b[0m\n",
      "\u001b[0;32m~/opt/anaconda3/lib/python3.7/site-packages/pandas/core/reshape/tile.py\u001b[0m in \u001b[0;36m_bins_to_cuts\u001b[0;34m(x, bins, right, labels, precision, include_lowest, dtype, duplicates)\u001b[0m\n\u001b[1;32m    402\u001b[0m         \u001b[0;32mif\u001b[0m \u001b[0mlabels\u001b[0m \u001b[0;32mis\u001b[0m \u001b[0;32mNone\u001b[0m\u001b[0;34m:\u001b[0m\u001b[0;34m\u001b[0m\u001b[0;34m\u001b[0m\u001b[0m\n\u001b[1;32m    403\u001b[0m             labels = _format_labels(\n\u001b[0;32m--> 404\u001b[0;31m                 \u001b[0mbins\u001b[0m\u001b[0;34m,\u001b[0m \u001b[0mprecision\u001b[0m\u001b[0;34m,\u001b[0m \u001b[0mright\u001b[0m\u001b[0;34m=\u001b[0m\u001b[0mright\u001b[0m\u001b[0;34m,\u001b[0m \u001b[0minclude_lowest\u001b[0m\u001b[0;34m=\u001b[0m\u001b[0minclude_lowest\u001b[0m\u001b[0;34m,\u001b[0m \u001b[0mdtype\u001b[0m\u001b[0;34m=\u001b[0m\u001b[0mdtype\u001b[0m\u001b[0;34m\u001b[0m\u001b[0;34m\u001b[0m\u001b[0m\n\u001b[0m\u001b[1;32m    405\u001b[0m             )\n\u001b[1;32m    406\u001b[0m         \u001b[0;32melse\u001b[0m\u001b[0;34m:\u001b[0m\u001b[0;34m\u001b[0m\u001b[0;34m\u001b[0m\u001b[0m\n",
      "\u001b[0;32m~/opt/anaconda3/lib/python3.7/site-packages/pandas/core/reshape/tile.py\u001b[0m in \u001b[0;36m_format_labels\u001b[0;34m(bins, precision, right, include_lowest, dtype)\u001b[0m\n\u001b[1;32m    524\u001b[0m         \u001b[0;31m# we will adjust the left hand side by precision to\u001b[0m\u001b[0;34m\u001b[0m\u001b[0;34m\u001b[0m\u001b[0;34m\u001b[0m\u001b[0m\n\u001b[1;32m    525\u001b[0m         \u001b[0;31m# account that we are all right closed\u001b[0m\u001b[0;34m\u001b[0m\u001b[0;34m\u001b[0m\u001b[0;34m\u001b[0m\u001b[0m\n\u001b[0;32m--> 526\u001b[0;31m         \u001b[0mv\u001b[0m \u001b[0;34m=\u001b[0m \u001b[0madjust\u001b[0m\u001b[0;34m(\u001b[0m\u001b[0mlabels\u001b[0m\u001b[0;34m[\u001b[0m\u001b[0;36m0\u001b[0m\u001b[0;34m]\u001b[0m\u001b[0;34m.\u001b[0m\u001b[0mleft\u001b[0m\u001b[0;34m)\u001b[0m\u001b[0;34m\u001b[0m\u001b[0;34m\u001b[0m\u001b[0m\n\u001b[0m\u001b[1;32m    527\u001b[0m \u001b[0;34m\u001b[0m\u001b[0m\n\u001b[1;32m    528\u001b[0m         \u001b[0mi\u001b[0m \u001b[0;34m=\u001b[0m \u001b[0mIntervalIndex\u001b[0m\u001b[0;34m(\u001b[0m\u001b[0;34m[\u001b[0m\u001b[0mInterval\u001b[0m\u001b[0;34m(\u001b[0m\u001b[0mv\u001b[0m\u001b[0;34m,\u001b[0m \u001b[0mlabels\u001b[0m\u001b[0;34m[\u001b[0m\u001b[0;36m0\u001b[0m\u001b[0;34m]\u001b[0m\u001b[0;34m.\u001b[0m\u001b[0mright\u001b[0m\u001b[0;34m,\u001b[0m \u001b[0mclosed\u001b[0m\u001b[0;34m=\u001b[0m\u001b[0;34m\"right\"\u001b[0m\u001b[0;34m)\u001b[0m\u001b[0;34m]\u001b[0m\u001b[0;34m)\u001b[0m\u001b[0;34m\u001b[0m\u001b[0;34m\u001b[0m\u001b[0m\n",
      "\u001b[0;32m~/opt/anaconda3/lib/python3.7/site-packages/pandas/core/indexes/interval.py\u001b[0m in \u001b[0;36m__getitem__\u001b[0;34m(self, value)\u001b[0m\n\u001b[1;32m   1090\u001b[0m \u001b[0;34m\u001b[0m\u001b[0m\n\u001b[1;32m   1091\u001b[0m     \u001b[0;32mdef\u001b[0m \u001b[0m__getitem__\u001b[0m\u001b[0;34m(\u001b[0m\u001b[0mself\u001b[0m\u001b[0;34m,\u001b[0m \u001b[0mvalue\u001b[0m\u001b[0;34m)\u001b[0m\u001b[0;34m:\u001b[0m\u001b[0;34m\u001b[0m\u001b[0;34m\u001b[0m\u001b[0m\n\u001b[0;32m-> 1092\u001b[0;31m         \u001b[0mresult\u001b[0m \u001b[0;34m=\u001b[0m \u001b[0mself\u001b[0m\u001b[0;34m.\u001b[0m\u001b[0m_data\u001b[0m\u001b[0;34m[\u001b[0m\u001b[0mvalue\u001b[0m\u001b[0;34m]\u001b[0m\u001b[0;34m\u001b[0m\u001b[0;34m\u001b[0m\u001b[0m\n\u001b[0m\u001b[1;32m   1093\u001b[0m         \u001b[0;32mif\u001b[0m \u001b[0misinstance\u001b[0m\u001b[0;34m(\u001b[0m\u001b[0mresult\u001b[0m\u001b[0;34m,\u001b[0m \u001b[0mIntervalArray\u001b[0m\u001b[0;34m)\u001b[0m\u001b[0;34m:\u001b[0m\u001b[0;34m\u001b[0m\u001b[0;34m\u001b[0m\u001b[0m\n\u001b[1;32m   1094\u001b[0m             \u001b[0;32mreturn\u001b[0m \u001b[0mself\u001b[0m\u001b[0;34m.\u001b[0m\u001b[0m_shallow_copy\u001b[0m\u001b[0;34m(\u001b[0m\u001b[0mresult\u001b[0m\u001b[0;34m)\u001b[0m\u001b[0;34m\u001b[0m\u001b[0;34m\u001b[0m\u001b[0m\n",
      "\u001b[0;32m~/opt/anaconda3/lib/python3.7/site-packages/pandas/core/arrays/interval.py\u001b[0m in \u001b[0;36m__getitem__\u001b[0;34m(self, value)\u001b[0m\n\u001b[1;32m    507\u001b[0m \u001b[0;34m\u001b[0m\u001b[0m\n\u001b[1;32m    508\u001b[0m     \u001b[0;32mdef\u001b[0m \u001b[0m__getitem__\u001b[0m\u001b[0;34m(\u001b[0m\u001b[0mself\u001b[0m\u001b[0;34m,\u001b[0m \u001b[0mvalue\u001b[0m\u001b[0;34m)\u001b[0m\u001b[0;34m:\u001b[0m\u001b[0;34m\u001b[0m\u001b[0;34m\u001b[0m\u001b[0m\n\u001b[0;32m--> 509\u001b[0;31m         \u001b[0mleft\u001b[0m \u001b[0;34m=\u001b[0m \u001b[0mself\u001b[0m\u001b[0;34m.\u001b[0m\u001b[0mleft\u001b[0m\u001b[0;34m[\u001b[0m\u001b[0mvalue\u001b[0m\u001b[0;34m]\u001b[0m\u001b[0;34m\u001b[0m\u001b[0;34m\u001b[0m\u001b[0m\n\u001b[0m\u001b[1;32m    510\u001b[0m         \u001b[0mright\u001b[0m \u001b[0;34m=\u001b[0m \u001b[0mself\u001b[0m\u001b[0;34m.\u001b[0m\u001b[0mright\u001b[0m\u001b[0;34m[\u001b[0m\u001b[0mvalue\u001b[0m\u001b[0;34m]\u001b[0m\u001b[0;34m\u001b[0m\u001b[0;34m\u001b[0m\u001b[0m\n\u001b[1;32m    511\u001b[0m \u001b[0;34m\u001b[0m\u001b[0m\n",
      "\u001b[0;32m~/opt/anaconda3/lib/python3.7/site-packages/pandas/core/indexes/base.py\u001b[0m in \u001b[0;36m__getitem__\u001b[0;34m(self, key)\u001b[0m\n\u001b[1;32m   4278\u001b[0m         \u001b[0;32mif\u001b[0m \u001b[0mis_scalar\u001b[0m\u001b[0;34m(\u001b[0m\u001b[0mkey\u001b[0m\u001b[0;34m)\u001b[0m\u001b[0;34m:\u001b[0m\u001b[0;34m\u001b[0m\u001b[0;34m\u001b[0m\u001b[0m\n\u001b[1;32m   4279\u001b[0m             \u001b[0mkey\u001b[0m \u001b[0;34m=\u001b[0m \u001b[0mcom\u001b[0m\u001b[0;34m.\u001b[0m\u001b[0mcast_scalar_indexer\u001b[0m\u001b[0;34m(\u001b[0m\u001b[0mkey\u001b[0m\u001b[0;34m)\u001b[0m\u001b[0;34m\u001b[0m\u001b[0;34m\u001b[0m\u001b[0m\n\u001b[0;32m-> 4280\u001b[0;31m             \u001b[0;32mreturn\u001b[0m \u001b[0mgetitem\u001b[0m\u001b[0;34m(\u001b[0m\u001b[0mkey\u001b[0m\u001b[0;34m)\u001b[0m\u001b[0;34m\u001b[0m\u001b[0;34m\u001b[0m\u001b[0m\n\u001b[0m\u001b[1;32m   4281\u001b[0m \u001b[0;34m\u001b[0m\u001b[0m\n\u001b[1;32m   4282\u001b[0m         \u001b[0;32mif\u001b[0m \u001b[0misinstance\u001b[0m\u001b[0;34m(\u001b[0m\u001b[0mkey\u001b[0m\u001b[0;34m,\u001b[0m \u001b[0mslice\u001b[0m\u001b[0;34m)\u001b[0m\u001b[0;34m:\u001b[0m\u001b[0;34m\u001b[0m\u001b[0;34m\u001b[0m\u001b[0m\n",
      "\u001b[0;31mIndexError\u001b[0m: index 0 is out of bounds for axis 0 with size 0"
     ]
    }
   ],
   "source": [
    "teste = pd.qcut(df['TEMPO_RESPOSTA_SEGUNDOS'], q=8, duplicates='drop', precision=2)"
   ]
  },
  {
   "cell_type": "code",
   "execution_count": 27,
   "metadata": {},
   "outputs": [
    {
     "output_type": "error",
     "ename": "NameError",
     "evalue": "name 'teste' is not defined",
     "traceback": [
      "\u001b[0;31m---------------------------------------------------------------------------\u001b[0m",
      "\u001b[0;31mNameError\u001b[0m                                 Traceback (most recent call last)",
      "\u001b[0;32m<ipython-input-27-9dc40e60d667>\u001b[0m in \u001b[0;36m<module>\u001b[0;34m\u001b[0m\n\u001b[0;32m----> 1\u001b[0;31m \u001b[0mprint\u001b[0m\u001b[0;34m(\u001b[0m\u001b[0mteste\u001b[0m\u001b[0;34m)\u001b[0m\u001b[0;34m\u001b[0m\u001b[0;34m\u001b[0m\u001b[0m\n\u001b[0m",
      "\u001b[0;31mNameError\u001b[0m: name 'teste' is not defined"
     ]
    }
   ],
   "source": [
    "print(teste)"
   ]
  },
  {
   "cell_type": "code",
   "execution_count": 28,
   "metadata": {},
   "outputs": [],
   "source": [
    "df['CLASSE_APP'] = pd.cut(df['TEMPO_RESPOSTA_SEGUNDOS'], bins=[-0.01,0.1,0.39, 0.59, 0.92, 1.42, 2.09, 3.3, 30.0,937274])"
   ]
  },
  {
   "cell_type": "code",
   "execution_count": 29,
   "metadata": {},
   "outputs": [],
   "source": [
    "df.CLASSE_APP.cat.rename_categories({pd.Interval(-0.01, 0.1) : 'Super Baixo (até 0.1 seg)',\n",
    "                                                      pd.Interval(0.1, 0.39) : 'Muito Baixo (0.1 - 0.39 seg)',\n",
    "                                                      pd.Interval(0.39, 0.59) : 'Baixo (0.39 - 0.59 seg)',\n",
    "                                                      pd.Interval(0.59,0.92) : 'Médio (0.59 - 0.92 seg)',\n",
    "                                                      pd.Interval(0.92,1.42) : 'Médio (0.91 - 1.42 seg)',\n",
    "                                                      pd.Interval(1.42, 2.09) : 'Alto (1.42 - 2.09 seg)', \n",
    "                                                      pd.Interval(2.09, 3.3) : 'Muito Alto (2.09 - 3.3 seg)',\n",
    "                                                      pd.Interval(3.3, 30) : 'Super Alto (3.24 - 30 seg)',\n",
    "                                                      pd.Interval(30.0,937274): 'TimeOut'}, \n",
    "                                                      inplace=True)"
   ]
  },
  {
   "cell_type": "code",
   "execution_count": 30,
   "metadata": {},
   "outputs": [
    {
     "output_type": "execute_result",
     "data": {
      "text/plain": "Empty DataFrame\nColumns: []\nIndex: [CD_VIS, DT_ACAO, HR_LCL_VIST, TX_IP_VIS, CD_UOR, NM_UOR_RDZ, HR_ACAO, TEMPO_RESPOSTA, TX_IDFC_USU, UF, NM_TIP_ACAO, HORA_TRS, DIA_MES, DIA_PICO, DIA_UTIL, CONTEXTO, APP, HORA_LOCAL, DT_ACAO_DATETIME, HORA_COMERCIAL, TEMPO_RESPOSTA_SEGUNDOS, TIMEOUT, CLASSE_APP]",
      "text/html": "<div>\n<style scoped>\n    .dataframe tbody tr th:only-of-type {\n        vertical-align: middle;\n    }\n\n    .dataframe tbody tr th {\n        vertical-align: top;\n    }\n\n    .dataframe thead th {\n        text-align: right;\n    }\n</style>\n<table border=\"1\" class=\"dataframe\">\n  <thead>\n    <tr style=\"text-align: right;\">\n      <th></th>\n    </tr>\n  </thead>\n  <tbody>\n    <tr>\n      <td>CD_VIS</td>\n    </tr>\n    <tr>\n      <td>DT_ACAO</td>\n    </tr>\n    <tr>\n      <td>HR_LCL_VIST</td>\n    </tr>\n    <tr>\n      <td>TX_IP_VIS</td>\n    </tr>\n    <tr>\n      <td>CD_UOR</td>\n    </tr>\n    <tr>\n      <td>NM_UOR_RDZ</td>\n    </tr>\n    <tr>\n      <td>HR_ACAO</td>\n    </tr>\n    <tr>\n      <td>TEMPO_RESPOSTA</td>\n    </tr>\n    <tr>\n      <td>TX_IDFC_USU</td>\n    </tr>\n    <tr>\n      <td>UF</td>\n    </tr>\n    <tr>\n      <td>NM_TIP_ACAO</td>\n    </tr>\n    <tr>\n      <td>HORA_TRS</td>\n    </tr>\n    <tr>\n      <td>DIA_MES</td>\n    </tr>\n    <tr>\n      <td>DIA_PICO</td>\n    </tr>\n    <tr>\n      <td>DIA_UTIL</td>\n    </tr>\n    <tr>\n      <td>CONTEXTO</td>\n    </tr>\n    <tr>\n      <td>APP</td>\n    </tr>\n    <tr>\n      <td>HORA_LOCAL</td>\n    </tr>\n    <tr>\n      <td>DT_ACAO_DATETIME</td>\n    </tr>\n    <tr>\n      <td>HORA_COMERCIAL</td>\n    </tr>\n    <tr>\n      <td>TEMPO_RESPOSTA_SEGUNDOS</td>\n    </tr>\n    <tr>\n      <td>TIMEOUT</td>\n    </tr>\n    <tr>\n      <td>CLASSE_APP</td>\n    </tr>\n  </tbody>\n</table>\n</div>"
     },
     "metadata": {},
     "execution_count": 30
    }
   ],
   "source": [
    "df.head().T"
   ]
  },
  {
   "cell_type": "code",
   "execution_count": 31,
   "metadata": {},
   "outputs": [
    {
     "output_type": "execute_result",
     "data": {
      "text/plain": "CD_VIS                     0\nDT_ACAO                    0\nHR_LCL_VIST                0\nTX_IP_VIS                  0\nCD_UOR                     0\nNM_UOR_RDZ                 0\nHR_ACAO                    0\nTEMPO_RESPOSTA             0\nTX_IDFC_USU                0\nUF                         0\nNM_TIP_ACAO                0\nHORA_TRS                   0\nDIA_MES                    0\nDIA_PICO                   0\nDIA_UTIL                   0\nCONTEXTO                   0\nAPP                        0\nHORA_LOCAL                 0\nDT_ACAO_DATETIME           0\nHORA_COMERCIAL             0\nTEMPO_RESPOSTA_SEGUNDOS    0\nTIMEOUT                    0\nCLASSE_APP                 0\ndtype: int64"
     },
     "metadata": {},
     "execution_count": 31
    }
   ],
   "source": [
    "df.isnull().sum()"
   ]
  },
  {
   "cell_type": "code",
   "execution_count": 32,
   "metadata": {},
   "outputs": [],
   "source": [
    "#temp = df.groupby(['CONTEXTO','APP','NM_TIP_ACAO']).agg({'TEMPO_RESPOSTA_SEGUNDOS':'count'},index=False).reset_index().rename(columns={\"TEMPO_RESPOSTA_SEGUNDOS\": \"Qtde\"})\n",
    "#temp = df.groupby(['CONTEXTO','APP','NM_TIP_ACAO']).agg({'TEMPO_RESPOSTA_SEGUNDOS':'count'},index=False).reset_index().rename(columns={\"TEMPO_RESPOSTA_SEGUNDOS\": \"Qtde\"})\n",
    "#temp.to_csv('../data/contextos_app.csv',index=False,sep=';')\n",
    "#temp"
   ]
  },
  {
   "cell_type": "code",
   "execution_count": 33,
   "metadata": {},
   "outputs": [
    {
     "output_type": "execute_result",
     "data": {
      "text/plain": "count       0\nunique      0\ntop       NaN\nfreq      NaN\nName: TEMPO_RESPOSTA_SEGUNDOS, dtype: object"
     },
     "metadata": {},
     "execution_count": 33
    }
   ],
   "source": [
    "df.TEMPO_RESPOSTA_SEGUNDOS.describe()"
   ]
  },
  {
   "cell_type": "code",
   "execution_count": 34,
   "metadata": {},
   "outputs": [
    {
     "output_type": "execute_result",
     "data": {
      "text/plain": "CD_VIS                     0\nDT_ACAO                    0\nHR_LCL_VIST                0\nTX_IP_VIS                  0\nCD_UOR                     0\nNM_UOR_RDZ                 0\nHR_ACAO                    0\nTEMPO_RESPOSTA             0\nTX_IDFC_USU                0\nUF                         0\nNM_TIP_ACAO                0\nHORA_TRS                   0\nDIA_MES                    0\nDIA_PICO                   0\nDIA_UTIL                   0\nCONTEXTO                   0\nAPP                        0\nHORA_LOCAL                 0\nDT_ACAO_DATETIME           0\nHORA_COMERCIAL             0\nTEMPO_RESPOSTA_SEGUNDOS    0\nTIMEOUT                    0\nCLASSE_APP                 0\ndtype: int64"
     },
     "metadata": {},
     "execution_count": 34
    }
   ],
   "source": [
    "df.isnull().sum()"
   ]
  },
  {
   "cell_type": "code",
   "execution_count": 35,
   "metadata": {},
   "outputs": [],
   "source": [
    "df.drop(columns=[\"NM_TIP_ACAO\"],inplace=True)"
   ]
  },
  {
   "cell_type": "code",
   "execution_count": 36,
   "metadata": {},
   "outputs": [],
   "source": [
    "df.to_csv('../data/base_plataforma_completo_final.csv',sep=';',index=False)"
   ]
  },
  {
   "cell_type": "code",
   "execution_count": null,
   "metadata": {},
   "outputs": [],
   "source": []
  }
 ],
 "metadata": {
  "kernelspec": {
   "display_name": "Python 3",
   "language": "python",
   "name": "python3"
  },
  "language_info": {
   "codemirror_mode": {
    "name": "ipython",
    "version": 3
   },
   "file_extension": ".py",
   "mimetype": "text/x-python",
   "name": "python",
   "nbconvert_exporter": "python",
   "pygments_lexer": "ipython3",
   "version": "3.7.4-final"
  }
 },
 "nbformat": 4,
 "nbformat_minor": 4
}